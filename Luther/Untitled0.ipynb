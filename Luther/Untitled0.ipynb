{
 "metadata": {
  "name": "",
  "signature": "sha256:63dea30733168e2e4b55c77c7a594dd94bf5d083c8b07990594b706373451925"
 },
 "nbformat": 3,
 "nbformat_minor": 0,
 "worksheets": [
  {
   "cells": [
    {
     "cell_type": "code",
     "collapsed": false,
     "input": [
      "% matplotlib inline\n",
      "import sys\n",
      "sys.path.append('../plotters')\n",
      "import plotters\n",
      "reload (plotters)\n",
      "\n",
      "import matplotlib.pyplot as plt\n",
      "import pickle\n",
      "import pandas as pd\n",
      "import numpy as np\n",
      "import statsmodels.formula.api as sm\n",
      "from datetime import datetime\n",
      "import math\n",
      "import random\n",
      "import sklearn.metrics as sk\n",
      "import itertools\n"
     ],
     "language": "python",
     "metadata": {},
     "outputs": [],
     "prompt_number": 32
    },
    {
     "cell_type": "code",
     "collapsed": false,
     "input": [
      "with open ('movie_data.pkl','r') as picklefile:\n",
      "    franchise_dicts = pickle.load(picklefile)"
     ],
     "language": "python",
     "metadata": {},
     "outputs": [],
     "prompt_number": 33
    },
    {
     "cell_type": "code",
     "collapsed": false,
     "input": [
      "def complete_data(franchise_dictionary):\n",
      "    desired_keys = ['rating', 'production_method', 'creative_type', 'domestic_opening', 'release_date', 'budget', \n",
      "                'domestic_box', 'director', 'cast', 'critics_rating', 'movie_title', 'source', 'video_sales', \n",
      "                'keywords', 'worldwide_box', 'genre', 'audience_rating']\n",
      "\n",
      "    for f in franchise_dictionary.keys():\n",
      "        for movie in franchise_dictionary[f]:\n",
      "            for key in desired_keys:\n",
      "                if key not in movie.keys():\n",
      "                    movie[key]=''\n",
      "                    \n",
      "    return franchise_dictionary\n"
     ],
     "language": "python",
     "metadata": {},
     "outputs": [],
     "prompt_number": 34
    },
    {
     "cell_type": "code",
     "collapsed": false,
     "input": [
      "def organize_franchise(franchise):\n",
      "    new_sequence = []\n",
      "    previous_movie = franchise[0]\n",
      "    for index,movie in enumerate(franchise[1:]):\n",
      "        new_movie_dict = previous_movie.copy()\n",
      "        \n",
      "        new_movie_dict['cast_overlap_2'] = cast_overlap(previous_movie, movie, 2)\n",
      "        new_movie_dict['cast_overlap_5'] = cast_overlap(previous_movie, movie, 5)\n",
      "        new_movie_dict['cast_overlap_10'] = cast_overlap(previous_movie, movie, 10)\n",
      "        \n",
      "        for i in range(10):\n",
      "            column = 'cast_member_' + str(i+1)\n",
      "            new_movie_dict[column] = does_cast_member_appear(previous_movie, movie, i)    \n",
      "        \n",
      "        new_movie_dict['same_director'] = is_director_same(previous_movie, movie)\n",
      "        \n",
      "        new_movie_dict['sequel_worldwide_box'] = movie['worldwide_box']\n",
      "        new_movie_dict['sequel_budget'] = movie['budget']\n",
      "        new_movie_dict['sequel_release_date'] = movie['release_date']\n",
      "        \n",
      "        keys_to_remove = ['director','cast']\n",
      "        \n",
      "        new_movie_dict['movie_title'] = movie['movie_title']\n",
      "        new_movie_dict['number_in_series']=index+1\n",
      "        \n",
      "        \n",
      "        remove_from_dict(new_movie_dict,keys_to_remove)\n",
      "        \n",
      "        previous_movie = movie\n",
      "        new_sequence.append(new_movie_dict)\n",
      "        \n",
      "    return new_sequence \n",
      "    \n",
      "    \n",
      "def is_director_same(movie_dict_1,movie_dict_2):\n",
      "    directors_movie_1 = movie_dict_1['director']\n",
      "    directors_movie_2 = movie_dict_2['director']\n",
      "\n",
      "    \n",
      "    for director in directors_movie_1:\n",
      "        if director not in directors_movie_2:\n",
      "            return 0\n",
      "    return 1\n",
      "\n",
      "def does_cast_member_appear(previous_movie_dict,sequel_movie_dict,num_to_check):\n",
      "    previous_movie_cast = previous_movie_dict['cast']\n",
      "    sequel_movie_cast = sequel_movie_dict['cast']\n",
      "    \n",
      "    try:\n",
      "        actor_to_check = previous_movie_cast[num_to_check]\n",
      "    except:\n",
      "        return 0.5\n",
      "    \n",
      "    if actor_to_check in sequel_movie_cast:\n",
      "        return 1\n",
      "    else:\n",
      "        return 0\n",
      "    \n",
      "def cast_overlap(previous_movie_dict,sequel_movie_dict,num_to_check):\n",
      "    previous_movie_cast = previous_movie_dict['cast']\n",
      "    sequel_movie_cast = sequel_movie_dict['cast']\n",
      "    \n",
      "    overlap_counter=0\n",
      "    if len(previous_movie_cast)<num_to_check:\n",
      "        num_to_check = len(previous_movie_cast)\n",
      "    \n",
      "    for x in range(num_to_check):\n",
      "        if previous_movie_cast[x] in sequel_movie_cast:\n",
      "            overlap_counter+=1\n",
      "    try:\n",
      "        return float(overlap_counter)/num_to_check\n",
      "    except:\n",
      "        return 0\n",
      "        \n",
      "def remove_from_dict(dictionary,keys_to_remove):\n",
      "    for key in keys_to_remove:\n",
      "        dictionary.pop(key)\n",
      "\n",
      "\n",
      "def make_sequels_dataframe(sequel_list):\n",
      "    sequels_df = pd.DataFrame(movie_sequels)\n",
      "    sequels_df['ones'] = 1\n",
      "    sequels_df['time_between'] = sequels_df.sequel_release_date.apply(getyear) - sequels_df.release_date.apply(getyear)\n",
      "    return sequels_df\n",
      "\n",
      "def getyear(date):\n",
      "    return date.year"
     ],
     "language": "python",
     "metadata": {},
     "outputs": [],
     "prompt_number": 35
    },
    {
     "cell_type": "code",
     "collapsed": false,
     "input": [
      "def change_value(dataframe, column_header, old_val, new_val):\n",
      "    dataframe[column_header][sequels_df[column_header]==old_val] = new_val\n",
      "    return dataframe\n",
      "\n",
      "def split_df_to_training_test(sequels_df):\n",
      "    training_length = len(sequels_df)*3/4\n",
      "    training_indices = random.sample(sequels_df.index,training_length)\n",
      "    training_set = sequels_df.ix[training_indices]\n",
      "\n",
      "    test_indices = set(sequels_df.index) - set(training_indices)\n",
      "    test_set = sequels_df.ix[test_indices]\n",
      "    \n",
      "    return training_set,test_set"
     ],
     "language": "python",
     "metadata": {},
     "outputs": [],
     "prompt_number": 36
    },
    {
     "cell_type": "code",
     "collapsed": false,
     "input": [
      "# Complete the dictionary (add in any missing keys) and make it into a dataframe.\n",
      "# Split the dataframe into a test set and training set\n",
      "\n",
      "complete_franchise_dict = complete_data(franchise_dicts)\n",
      "complete_franchise_dict.pop(' The Avengers')\n",
      "\n",
      "movie_sequels = []\n",
      "for f in complete_franchise_dict:\n",
      "    movie_sequels+=organize_franchise(franchise_dicts[f])\n",
      "\n",
      "sequels_df = make_sequels_dataframe(movie_sequels)\n",
      "\n",
      "sequels_df = change_value(sequels_df,'genre','Black Comedy','Comedy')\n",
      "sequels_df = change_value(sequels_df,'genre','Romantic Comedy','Comedy')\n",
      "sequels_df = change_value(sequels_df,'genre','Thriller/Suspense','Horror')\n",
      "sequels_df = change_value(sequels_df,'genre','Musical','Drama')\n",
      "sequels_df = change_value(sequels_df,'genre','Western','Comedy')\n",
      "sequels_df = change_value(sequels_df, 'rating','G(Rating','G')\n",
      "\n",
      "sequels_df = pd.concat([sequels_df,pd.get_dummies(sequels_df['rating']),pd.get_dummies(sequels_df['genre'])],axis=1)\n",
      "\n",
      "training_set,test_set = split_df_to_training_test(sequels_df)"
     ],
     "language": "python",
     "metadata": {},
     "outputs": [],
     "prompt_number": 37
    },
    {
     "cell_type": "code",
     "collapsed": true,
     "input": [
      "# Plot histograms of the box office success of the previous and sequel movie\n",
      "\n",
      "h = plt.hist(sequels_df.sequel_worldwide_box.values,alpha=0.3,color='r')\n",
      "plt.hist(sequels_df.worldwide_box.values,alpha=0.3, bins=h[1],color='b')\n",
      "plt.xlabel('Box Office Gross')\n",
      "\n",
      "plt.legend(['Sequel','Previous Movie'])"
     ],
     "language": "python",
     "metadata": {},
     "outputs": [
      {
       "metadata": {},
       "output_type": "pyout",
       "prompt_number": 38,
       "text": [
        "<matplotlib.legend.Legend at 0x11a16e210>"
       ]
      },
      {
       "metadata": {},
       "output_type": "display_data",
       "png": "[encoded data removed]",
       "text": [
        "<matplotlib.figure.Figure at 0x11a394690>"
       ]
      }
     ],
     "prompt_number": 38
    },
    {
     "cell_type": "code",
     "collapsed": false,
     "input": [
      "def create_plot_regression(dataframe,factors_to_consider_list,value_to_predict,axis_to_plot):\n",
      "\n",
      "    factors_to_consider_list.append('ones')\n",
      "    X = dataframe[factors_to_consider_list]\n",
      "    Y = dataframe[value_to_predict]\n",
      "    \n",
      "    linmodel = sm.OLS(Y,X).fit()\n",
      "    \n",
      "    x_to_plot = dataframe[factors_to_consider_list[0]]\n",
      "    axis_to_plot.scatter(x_to_plot,Y)\n",
      "    \n",
      "    if len(factors_to_consider_list)==2:\n",
      "        linetype='r'\n",
      "    else:\n",
      "        linetype='ro'\n",
      "    axis_to_plot.plot(x_to_plot,linmodel.predict(X),linetype,linewidth=4)\n",
      "    \n",
      "    axis_to_plot.set_xlabel(factors_to_consider_list[0])\n",
      "    axis_to_plot.set_ylabel(value_to_predict)\n",
      "    \n",
      "    axis_to_plot.legend(['actual','predicted'],loc='upper left')\n",
      "    \n",
      "    return linmodel\n",
      "\n",
      "def plot_residuals(dataframe,factors_for_prediction,y_to_predict,linmodel,axis_to_plot,col,label):\n",
      "# COLOR BLOCK 1\n",
      "    c_keys = ['G','PG','PG-13','R',None,''] \n",
      "    c_vals = ['r','orange','y','g','black','black']\n",
      "    c_dict = dict(zip(c_keys,c_vals))\n",
      "    \n",
      "    X = dataframe[factors_for_prediction]\n",
      "\n",
      "    residuals = dataframe[y_to_predict] - linmodel.predict(X)\n",
      "    \n",
      "## COLOR BLOCK 2    \n",
      "    #axis_to_plot.scatter(dataframe[y_to_predict], residuals, color = [c_dict[num] for num in dataframe.rating.values])\n",
      "    axis_to_plot.scatter(dataframe[y_to_predict], residuals,color=col,label=label)\n",
      "    axis_to_plot.axhline(0, color='black')\n",
      "    \n",
      "    axis_to_plot.set_xlabel(y_to_predict)\n",
      "    axis_to_plot.set_ylabel('Error in Predicted Values', fontsize='14')\n",
      "    return residuals"
     ],
     "language": "python",
     "metadata": {},
     "outputs": [],
     "prompt_number": 39
    },
    {
     "cell_type": "code",
     "collapsed": false,
     "input": [
      "fig,ax = plt.subplots(1,figsize=(10,5))\n",
      "\n",
      "x_factors = ['worldwide_box','ones']\n",
      "r1 = plot_residuals(sequels_df,x_factors,y_to_predict,simple_model,ax,'green','Simple Model')\n",
      "\n",
      "x_factors = ['worldwide_box','sequel_budget','cast_overlap_10','number_in_series','time_between','ones']\n",
      "r2 = plot_residuals(sequels_df,x_factors,y_to_predict,linear_model,ax,'orange','Multiple Factor Model')\n",
      "\n",
      "ax.set_xlabel('Sequel Worldwide Box',fontsize=14)\n",
      "handles, labels = ax.get_legend_handles_labels()\n",
      "ax.legend(handles,labels,loc='upper left')\n",
      "#ax.legend([r1,r2],['simple','not'])"
     ],
     "language": "python",
     "metadata": {},
     "outputs": [
      {
       "metadata": {},
       "output_type": "pyout",
       "prompt_number": 42,
       "text": [
        "<matplotlib.legend.Legend at 0x1193fbb90>"
       ]
      },
      {
       "metadata": {},
       "output_type": "display_data",
       "png": "[encoded data removed]",
       "text": [
        "<matplotlib.figure.Figure at 0x1193fba50>"
       ]
      }
     ],
     "prompt_number": 42
    },
    {
     "cell_type": "code",
     "collapsed": true,
     "input": [
      "# Create and plot Linear Regression model to predict the sequel's box office based only on the box office of the previous film\n",
      "\n",
      "x_factors = ['worldwide_box']\n",
      "y_to_predict = 'sequel_worldwide_box'\n",
      "\n",
      "fig,ax = plt.subplots(1,figsize=(10,8))\n",
      "\n",
      "simple_model = create_plot_regression(sequels_df,x_factors,y_to_predict,ax)\n",
      "\n",
      "ax.set_xlabel(\"Box Office Previous Movie\",fontsize=14)\n",
      "ax.set_ylabel(\"Box Office Sequel\",fontsize=14)\n",
      "\n",
      "x=[0,1.1e9]\n",
      "ax.plot(x,x,'y',linewidth=4)\n",
      "\n",
      "ax.legend(['predicted','Y=X','actual'],loc='upper left')\n",
      "\n",
      "# residuals = plot_residuals(sequels_df,x_factors,y_to_predict,simple_model,ax[1])\n",
      "# ax[1].set_xlabel(\"Worldwide Box of Sequel\", fontsize = 14)"
     ],
     "language": "python",
     "metadata": {},
     "outputs": [
      {
       "metadata": {},
       "output_type": "pyout",
       "prompt_number": 41,
       "text": [
        "<matplotlib.legend.Legend at 0x11a4e5050>"
       ]
      },
      {
       "metadata": {},
       "output_type": "display_data",
       "png": "[encoded data removed]",
       "text": [
        "<matplotlib.figure.Figure at 0x11a509e90>"
       ]
      }
     ],
     "prompt_number": 41
    },
    {
     "cell_type": "code",
     "collapsed": true,
     "input": [
      "# FULL DATA SET\n",
      "# Create and plot a Linear Regression model to predict the sequel's box office based on factors (MVP)\n",
      "\n",
      "x_factors = ['worldwide_box','sequel_budget','cast_overlap_10','number_in_series','time_between']\n",
      "y_to_predict = 'sequel_worldwide_box'\n",
      "\n",
      "fig,ax = plt.subplots(1,figsize=(10,8))\n",
      "\n",
      "linear_model = create_plot_regression(sequels_df,x_factors,y_to_predict,ax)\n",
      "ax.set_xlabel(\"Worldwide Box of Previous Movie\", fontsize=14)\n",
      "\n",
      "ax.set_ylabel(\"Worldwide Box of Sequel\", fontsize = 14)\n",
      "\n",
      "ax.legend(['predicted','actual'])\n",
      "# residuals = plot_residuals(sequels_df,x_factors,y_to_predict,linear_model,ax[1])\n",
      "# ax[1].set_xlabel(\"Worldwide Box of Sequel\", fontsize = 14)\n"
     ],
     "language": "python",
     "metadata": {},
     "outputs": []
    },
    {
     "cell_type": "code",
     "collapsed": false,
     "input": [
      "sequels_df[sequels_df.worldwide_box-sequels_df.sequel_worldwide_box > 400000000].movie_title"
     ],
     "language": "python",
     "metadata": {},
     "outputs": []
    },
    {
     "cell_type": "code",
     "collapsed": false,
     "input": [
      "sequels_df.groupby('rating').count().movie_title"
     ],
     "language": "python",
     "metadata": {},
     "outputs": []
    },
    {
     "cell_type": "code",
     "collapsed": false,
     "input": [
      "linear_model.summary()"
     ],
     "language": "python",
     "metadata": {},
     "outputs": []
    },
    {
     "cell_type": "code",
     "collapsed": false,
     "input": [
      "# TRAINING SET\n",
      "# Create and plot a Linear Regression model to predict the sequel's box office based on factors (MVP)\n",
      "\n",
      "x_factors = ['worldwide_box','sequel_budget','cast_overlap_10','number_in_series','time_between']\n",
      "y_to_predict = 'sequel_worldwide_box'\n",
      "\n",
      "fig,ax = plt.subplots(2,figsize=(10,10))\n",
      "\n",
      "linear_model_training = create_plot_regression(training_set,x_factors,y_to_predict,ax[0])\n",
      "ax[0].set_xlabel(\"Worldwide Box of Previous Movie\")\n",
      "ax[0].set_ylabel(\"Worldwide Box of Sequel\")\n",
      "\n",
      "residuals = plot_residuals(training_set,x_factors,y_to_predict,linear_model_training,ax[1])\n",
      "ax[1].set_xlabel(\"Worldwide Box of Sequel\")\n",
      "\n",
      "X_training = training_set[x_factors]\n",
      "X_test = test_set[x_factors]\n",
      "\n",
      "training_error = (sk.mean_squared_error(training_set.sequel_worldwide_box, linear_model_training.predict(X_training)))\n",
      "test_error = (sk.mean_squared_error(test_set.sequel_worldwide_box, linear_model_training.predict(X_test)))\n",
      "print training_error\n",
      "print test_error"
     ],
     "language": "python",
     "metadata": {},
     "outputs": []
    },
    {
     "cell_type": "code",
     "collapsed": false,
     "input": [
      "print sequels_df[sequels_df.sequel_worldwide_box>1e9]"
     ],
     "language": "python",
     "metadata": {},
     "outputs": []
    },
    {
     "cell_type": "code",
     "collapsed": false,
     "input": [
      "x_factors = ['worldwide_box','sequel_budget','cast_overlap_10','number_in_series','time_between','ones']\n",
      "\n",
      "zoolander2 = [{'worldwide_box':60780981,'sequel_budget':40000000 ,'cast_overlap_10':0.714,'number_in_series':2,'time_between':14,'ones':1},\n",
      "              {'worldwide_box':60780981,'sequel_budget':50000000 ,'cast_overlap_10':1,'number_in_series':2,'time_between':14,'ones':1},\n",
      "              {'worldwide_box':60780981,'sequel_budget':60000000 ,'cast_overlap_10':1,'number_in_series':2,'time_between':14,'ones':1},\n",
      "              {'worldwide_box':60780981,'sequel_budget':70000000 ,'cast_overlap_10':0.5,'number_in_series':2,'time_between':14,'ones':1},\n",
      "              ]\n",
      "\n",
      "zoo_df = pd.DataFrame(zoolander2)\n",
      "\n",
      "zoo_df.sort(axis=1,)\n",
      "\n",
      "boolander_lol = zoo_df[['worldwide_box','sequel_budget','cast_overlap_10','number_in_series','time_between','ones']]\n",
      "boolander_lol\n",
      "\n",
      "#X_test\n",
      "print linear_model_training.predict(boolander_lol)\n",
      "\n",
      "#linear_model_training.summary()\n"
     ],
     "language": "python",
     "metadata": {},
     "outputs": []
    },
    {
     "cell_type": "code",
     "collapsed": false,
     "input": [
      "# TRAINING SET\n",
      "# Create and plot a Linear Regression model to predict the sequel's box office based on factors (MVP)\n",
      "\n",
      "x_factors = ['worldwide_box','sequel_budget','number_in_series','time_between','cast_member_1',\n",
      "             'cast_member_2','cast_member_3','cast_member_4','cast_member_5','cast_member_6',\n",
      "             'cast_member_7','cast_member_8','cast_member_9','cast_member_10']\n",
      "\n",
      "y_to_predict = 'sequel_worldwide_box'\n",
      "\n",
      "fig,ax = plt.subplots(2,figsize=(10,10))\n",
      "\n",
      "linear_model_training = create_plot_regression(training_set,x_factors,y_to_predict,ax[0])\n",
      "ax[0].set_xlabel(\"Worldwide Box of Previous Movie\")\n",
      "ax[0].set_ylabel(\"Worldwide Box of Sequel\")\n",
      "\n",
      "residuals = plot_residuals(training_set,x_factors,y_to_predict,linear_model_training,ax[1])\n",
      "ax[1].set_xlabel(\"Worldwide Box of Sequel\")\n",
      "\n",
      "X_training = training_set[x_factors]\n",
      "X_test = test_set[x_factors]\n",
      "\n",
      "training_error = (sk.mean_squared_error(training_set.sequel_worldwide_box, linear_model_training.predict(X_training)))\n",
      "test_error = (sk.mean_squared_error(test_set.sequel_worldwide_box, linear_model_training.predict(X_test)))\n",
      "print training_error\n",
      "print test_error"
     ],
     "language": "python",
     "metadata": {},
     "outputs": []
    },
    {
     "cell_type": "code",
     "collapsed": true,
     "input": [
      "linear_model_training.summary()"
     ],
     "language": "python",
     "metadata": {},
     "outputs": []
    },
    {
     "cell_type": "code",
     "collapsed": true,
     "input": [
      "sequels_df.dtypes"
     ],
     "language": "python",
     "metadata": {},
     "outputs": []
    },
    {
     "cell_type": "code",
     "collapsed": true,
     "input": [
      "linear_model_training.summary()"
     ],
     "language": "python",
     "metadata": {},
     "outputs": []
    },
    {
     "cell_type": "code",
     "collapsed": false,
     "input": [
      "#ALL RESIDUAL PLOTS\n",
      "X = sequels_df[['worldwide_box','sequel_budget','cast_overlap_10','number_in_series','time_between','ones']]\n",
      "residuals = sequels_df.sequel_worldwide_box-linear_model.predict(X)\n",
      "\n",
      "fig, ax = plt.subplots(6,1,figsize=(10,20))\n",
      "ax[0].scatter(sequels_df.sequel_worldwide_box, residuals)\n",
      "ax[0].axhline(0, color='black')\n",
      "ax[0].set_title('Sequel Box')\n",
      "ax[1].scatter(sequels_df.worldwide_box, residuals)\n",
      "ax[1].axhline(0, color='black')\n",
      "ax[1].set_title('Previous Box')\n",
      "ax[2].scatter(sequels_df.sequel_budget, residuals)\n",
      "ax[2].axhline(0, color='black')\n",
      "ax[2].set_title('Sequel Budget')\n",
      "ax[3].scatter(sequels_df.cast_overlap_10, residuals)\n",
      "ax[3].axhline(0, color='black')\n",
      "ax[3].set_title('Cast Overlap')\n",
      "ax[4].scatter(sequels_df.number_in_series, residuals)\n",
      "ax[4].axhline(0, color='black')\n",
      "ax[4].set_title('Number in Series')\n",
      "ax[5].scatter(sequels_df.time_between, residuals)\n",
      "ax[5].axhline(0, color='black')\n",
      "ax[5].set_title('Time Between')"
     ],
     "language": "python",
     "metadata": {},
     "outputs": []
    },
    {
     "cell_type": "code",
     "collapsed": true,
     "input": [
      "x_factors = ['worldwide_box','sequel_budget','number_in_series','time_between','cast_member_1',\n",
      "             'cast_member_2','cast_member_3','cast_member_4','cast_member_5','cast_member_6',\n",
      "             'cast_member_7','cast_member_8','cast_member_9','cast_member_10']\n",
      "\n",
      "y_to_predict = 'sequel_worldwide_box'\n",
      "\n",
      "fig,ax = plt.subplots(2,figsize=(10,10))\n",
      "\n",
      "linear_model_new_cast_measure = create_plot_regression(sequels_df,x_factors,y_to_predict,ax[0])\n",
      "ax[0].set_xlabel(\"Worldwide Box of Previous Movie\")\n",
      "ax[0].set_ylabel(\"Worldwide Box of Sequel\")\n",
      "\n",
      "residuals = plot_residuals(sequels_df,x_factors,y_to_predict,linear_model_new_cast_measure,ax[1])\n",
      "ax[1].set_xlabel(\"Worldwide Box of Sequel\")\n"
     ],
     "language": "python",
     "metadata": {},
     "outputs": []
    },
    {
     "cell_type": "code",
     "collapsed": false,
     "input": [
      "iterable_cast = ['cast_member_1','cast_member_2','cast_member_3','cast_member_4','cast_member_5','cast_member_6',\n",
      " 'cast_member_7','cast_member_8','cast_member_9','cast_member_10']\n",
      "\n",
      "cast_inclusions = []\n",
      "for i in range(1,len(iterable_cast)):\n",
      "    cast_inclusions+=([x for x in itertools.combinations(iterable,r=i)])\n",
      "\n",
      "len(cast_inclusions)\n"
     ],
     "language": "python",
     "metadata": {},
     "outputs": []
    },
    {
     "cell_type": "code",
     "collapsed": false,
     "input": [
      "x_base = ['worldwide_box','sequel_budget','number_in_series','time_between']\n",
      "y_to_predict = 'sequel_worldwide_box'\n",
      "\n",
      "training_errors = []\n",
      "test_errors = []\n",
      "for cast in cast_inclusions:\n",
      "    x_factors = x_base + list(cast)\n",
      "\n",
      "    #fig,ax = plt.subplots(2,figsize=(10,10))\n",
      "\n",
      "    linear_model_training = create_plot_regression(training_set,x_factors,y_to_predict,ax[0])\n",
      "    ax[0].set_xlabel(\"Worldwide Box of Previous Movie\")\n",
      "    ax[0].set_ylabel(\"Worldwide Box of Sequel\")\n",
      "\n",
      "#     residuals = plot_residuals(training_set,x_factors,y_to_predict,linear_model_training,ax[1])\n",
      "#     ax[1].set_xlabel(\"Worldwide Box of Sequel\")\n",
      "\n",
      "    X_training = training_set[x_factors]\n",
      "    X_test = test_set[x_factors]\n",
      "\n",
      "    training_errors.append((sk.mean_squared_error(training_set.sequel_worldwide_box, linear_model_training.predict(X_training)),cast))\n",
      "    test_errors.append((sk.mean_squared_error(test_set.sequel_worldwide_box, linear_model_training.predict(X_test)),cast))"
     ],
     "language": "python",
     "metadata": {},
     "outputs": []
    },
    {
     "cell_type": "code",
     "collapsed": true,
     "input": [
      "print min(training_errors)\n",
      "print min(test_errors)\n",
      "\n",
      "fig, ax = plt.subplots(1)\n",
      "residuals = plot_residuals(training_set,x_factors,y_to_predict,linear_model_training,ax)\n",
      "\n",
      "max(residuals)"
     ],
     "language": "python",
     "metadata": {},
     "outputs": []
    },
    {
     "cell_type": "code",
     "collapsed": false,
     "input": [
      "sequels_df.groupby(['rating','genre']).movie_title.count()"
     ],
     "language": "python",
     "metadata": {},
     "outputs": []
    },
    {
     "cell_type": "code",
     "collapsed": false,
     "input": [
      "x_factors = ['worldwide_box','sequel_budget','number_in_series','time_between','cast_overlap_10']\n",
      "\n",
      "# x_factors = ['worldwide_box','sequel_budget','number_in_series','time_between','cast_overlap_10','Action','Adventure',\n",
      "#              'Comedy','Drama','Horror']\n",
      "\n",
      "# x_factors = ['worldwide_box','sequel_budget','number_in_series','time_between','cast_overlap_10','G','PG',\n",
      "#              'PG-13']\n",
      "\n",
      "x_base = ['worldwide_box','sequel_budget','number_in_series','time_between']\n",
      "y_to_predict = 'sequel_worldwide_box'\n",
      "\n",
      "\n",
      "fig,ax = plt.subplots(2,figsize=(10,10))\n",
      "\n",
      "linear_model_training = create_plot_regression(training_set,x_factors,y_to_predict,ax[0])\n",
      "ax[0].set_xlabel(\"Worldwide Box of Previous Movie\")\n",
      "ax[0].set_ylabel(\"Worldwide Box of Sequel\")\n",
      "\n",
      "residuals = plot_residuals(training_set,x_factors,y_to_predict,linear_model_training,ax[1])\n",
      "ax[1].set_xlabel(\"Worldwide Box of Sequel\")\n",
      "\n",
      "X_training = training_set[x_factors]\n",
      "X_test = test_set[x_factors]\n",
      "\n",
      "training_error = sk.mean_squared_error(training_set.sequel_worldwide_box, linear_model_training.predict(X_training))\n",
      "test_error = sk.mean_squared_error(test_set.sequel_worldwide_box, linear_model_training.predict(X_test))\n",
      "\n",
      "print test_error"
     ],
     "language": "python",
     "metadata": {},
     "outputs": []
    },
    {
     "cell_type": "code",
     "collapsed": false,
     "input": [
      "linear_model_training.summary()"
     ],
     "language": "python",
     "metadata": {},
     "outputs": []
    },
    {
     "cell_type": "code",
     "collapsed": true,
     "input": [
      "# Fit a model to only the first 5 of your data points (m=5).\n",
      "# Then to first 10 (m=10). Then to first 15 (m=15). In this manner, keep fitting until you fit your entire training set.\n",
      "# For each step, calculate the training error and the test error. Plot both (in the same plot) over m.\n",
      "# This is called a learning curve.\n",
      "\n",
      "# x_factors = ['worldwide_box','sequel_budget','number_in_series','time_between','cast_overlap_10','Action','Adventure',\n",
      "#              'Comedy','Drama','Horror']\n",
      "\n",
      "\n",
      "split_index = 5\n",
      "while split_index < len(training_set):\n",
      "    "
     ],
     "language": "python",
     "metadata": {},
     "outputs": []
    },
    {
     "cell_type": "code",
     "collapsed": false,
     "input": [
      "with open('database_file.pkl','r') as picklefile:\n",
      "    movies = pickle.load(picklefile)"
     ],
     "language": "python",
     "metadata": {},
     "outputs": []
    },
    {
     "cell_type": "code",
     "collapsed": false,
     "input": [
      "print movies[0].keys()\n",
      "print movies[2]['actors']"
     ],
     "language": "python",
     "metadata": {},
     "outputs": []
    },
    {
     "cell_type": "code",
     "collapsed": false,
     "input": [
      "no_high_budget = training_set[training_set.sequel_budget <100000000]\n",
      "no_high_budget_test = test_set[test_set.sequel_budget <100000000]"
     ],
     "language": "python",
     "metadata": {},
     "outputs": []
    },
    {
     "cell_type": "code",
     "collapsed": false,
     "input": [
      "#create_plot_regression(dataframe,factors_to_consider_list,value_to_predict,axis_to_plot):\n",
      "\n",
      "x_factors = ['worldwide_box','sequel_budget','cast_overlap_10','number_in_series','time_between']\n",
      "y_to_predict = 'sequel_worldwide_box'\n",
      "\n",
      "fig,ax = plt.subplots(2,figsize=(10,10))\n",
      "\n",
      "linear_model_training = create_plot_regression(no_high_budget,x_factors,y_to_predict,ax[0])\n",
      "ax[0].set_xlabel(\"Worldwide Box of Previous Movie\")\n",
      "ax[0].set_ylabel(\"Worldwide Box of Sequel\")\n",
      "\n",
      "residuals = plot_residuals(no_high_budget,x_factors,y_to_predict,linear_model_training,ax[1])\n",
      "ax[1].set_xlabel(\"Worldwide Box of Sequel\")\n",
      "\n",
      "X_training = no_high_budget[x_factors]\n",
      "X_test = no_high_budget_test[x_factors]\n",
      "\n",
      "training_error = (sk.mean_squared_error(no_high_budget.sequel_worldwide_box, linear_model_training.predict(X_training)))\n",
      "test_error = (sk.mean_squared_error(no_high_budget_test.sequel_worldwide_box, linear_model_training.predict(X_test)))\n",
      "print training_error\n",
      "print test_error"
     ],
     "language": "python",
     "metadata": {},
     "outputs": []
    },
    {
     "cell_type": "code",
     "collapsed": false,
     "input": [
      "\n",
      "\n",
      "print sequels_df.groupby('genre').count()[['worldwide_box','sequel_worldwide_box']]\n",
      "print sequels_df.groupby('genre').mean()[['worldwide_box','sequel_worldwide_box','time_between']]"
     ],
     "language": "python",
     "metadata": {},
     "outputs": []
    },
    {
     "cell_type": "code",
     "collapsed": false,
     "input": [],
     "language": "python",
     "metadata": {},
     "outputs": []
    },
    {
     "cell_type": "code",
     "collapsed": false,
     "input": [],
     "language": "python",
     "metadata": {},
     "outputs": []
    }
   ],
   "metadata": {}
  }
 ]
}