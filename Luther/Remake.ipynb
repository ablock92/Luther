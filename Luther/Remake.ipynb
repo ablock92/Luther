{
 "metadata": {
  "name": "",
  "signature": "sha256:5603439cd7b818c504231f62efd2e45bdac626f397307117da678cef3025d6ed"
 },
 "nbformat": 3,
 "nbformat_minor": 0,
 "worksheets": [
  {
   "cells": [
    {
     "cell_type": "code",
     "collapsed": false,
     "input": [
      "import pickle\n",
      "\n",
      "with open('original_remake_pairs.pkl','r') as picklefile:\n",
      "    remake_info = pickle.load(picklefile)\n",
      "    \n",
      "with open('movie_data.pkl','r') as picklefile:\n",
      "    movie_info = pickle.load(picklefile)"
     ],
     "language": "python",
     "metadata": {},
     "outputs": [],
     "prompt_number": 27
    },
    {
     "cell_type": "code",
     "collapsed": false,
     "input": [
      "remake_titles = []\n",
      "for i in range(len(info)):\n",
      "    title = remake_info[i]['remake']\n",
      "    remake_titles.append(title)\n",
      "    "
     ],
     "language": "python",
     "metadata": {},
     "outputs": [],
     "prompt_number": 28
    },
    {
     "cell_type": "code",
     "collapsed": false,
     "input": [
      "for f in movie_info.keys():\n",
      "    for movie in movie_info[f]:\n",
      "        if movie['movie_title'] in remake_titles:\n",
      "            print movie['movie_title']"
     ],
     "language": "python",
     "metadata": {},
     "outputs": [
      {
       "output_type": "stream",
       "stream": "stdout",
       "text": [
        "The Karate Kid\n",
        "The Karate Kid\n",
        "Evil Dead\n",
        "The Grudge\n",
        "Halloween\n",
        "The Nutty Professor\n",
        "The Texas Chainsaw Massacre\n",
        "Friday the 13th\n",
        "Friday the 13th\n",
        "Godzilla\n",
        "Godzilla\n",
        "Planet of the Apes\n",
        "A Nightmare on Elm Street\n",
        "A Nightmare on Elm Street\n",
        "The Hills Have Eyes\n",
        "Ocean's Eleven\n",
        "RoboCop\n",
        "King Kong\n",
        "King Kong\n",
        "Clash of the Titans\n",
        "The Ring\n"
       ]
      }
     ],
     "prompt_number": 30
    },
    {
     "cell_type": "code",
     "collapsed": false,
     "input": [
      "info[44]"
     ],
     "language": "python",
     "metadata": {},
     "outputs": [
      {
       "metadata": {},
       "output_type": "pyout",
       "prompt_number": 19,
       "text": [
        "{'gross_difference': 71190514.96913657,\n",
        " 'original': u'Father of the Bride',\n",
        " 'original_box_office': 6084000,\n",
        " 'original_box_office_inflation': 79396200.0,\n",
        " 'original_imdb': 'http://www.imdb.com/title/tt42451/',\n",
        " 'original_imdb_id': '42451',\n",
        " 'original_info': {u'Error': u'Incorrect IMDb ID',\n",
        "  u'Response': u'False',\n",
        "  'Year': '1950'},\n",
        " 'original_url': 'http://en.wikipedia.org/wiki/Father_of_the_Bride_(1950_film)',\n",
        " 'remake': u'Father of the Bride',\n",
        " 'remake_box_office': 89325780,\n",
        " 'remake_box_office_inflation': 150586714.96913657,\n",
        " 'remake_imdb': 'http://www.imdb.com/title/tt101862/',\n",
        " 'remake_imdb_id': '101862',\n",
        " 'remake_info': {u'Error': u'Incorrect IMDb ID',\n",
        "  u'Response': u'False',\n",
        "  'Year': '1991'},\n",
        " 'remake_mojo': 'http://www.boxofficemojo.com/movies/?id=fatherofthebride.htm',\n",
        " 'remake_rt': 'http://www.rottentomatoes.com/m/1037864-father_of_the_bride/',\n",
        " 'remake_url': 'http://en.wikipedia.org/wiki/Father_of_the_Bride_(1991_film)'}"
       ]
      }
     ],
     "prompt_number": 19
    }
   ],
   "metadata": {}
  }
 ]
}