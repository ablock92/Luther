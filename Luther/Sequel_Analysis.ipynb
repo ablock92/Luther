{
 "metadata": {
  "name": "",
  "signature": "sha256:268609277d6cf3cf929b3265ccd63dad5d1266a5b4265328ce3a011367e250d5"
 },
 "nbformat": 3,
 "nbformat_minor": 0,
 "worksheets": [
  {
   "cells": [
    {
     "cell_type": "code",
     "collapsed": false,
     "input": [
      "%matplotlib inline\n",
      "import matplotlib.pyplot as plt\n",
      "import pickle\n",
      "import pandas as pd\n",
      "import numpy as np\n",
      "import statsmodels.formula.api as sm\n",
      "from datetime import datetime\n",
      "import math\n",
      "import random\n",
      "\n",
      "import sklearn.metrics as sk"
     ],
     "language": "python",
     "metadata": {},
     "outputs": [],
     "prompt_number": 2
    },
    {
     "cell_type": "code",
     "collapsed": false,
     "input": [
      "with open ('movie_data.pkl','r') as picklefile:\n",
      "    franchise_dicts = pickle.load(picklefile)"
     ],
     "language": "python",
     "metadata": {},
     "outputs": [],
     "prompt_number": 3
    },
    {
     "cell_type": "code",
     "collapsed": false,
     "input": [
      "f = franchise_dicts[\" Peter Jackson's Lord of the Rings\"]\n",
      "movie_info = f[1].keys()\n",
      "print movie_info\n",
      "#print f    "
     ],
     "language": "python",
     "metadata": {},
     "outputs": [
      {
       "output_type": "stream",
       "stream": "stdout",
       "text": [
        "['rating', 'production_method', 'creative_type', 'domestic_opening', 'release_date', 'budget', 'domestic_box', 'director', 'cast', 'critics_rating', 'movie_title', 'source', 'video_sales', 'keywords', 'worldwide_box', 'genre', 'audience_rating']\n"
       ]
      }
     ],
     "prompt_number": 4
    },
    {
     "cell_type": "code",
     "collapsed": false,
     "input": [
      "def complete_data(franchise_dictionary):\n",
      "    desired_keys = ['rating', 'production_method', 'creative_type', 'domestic_opening', 'release_date', 'budget', \n",
      "                'domestic_box', 'director', 'cast', 'critics_rating', 'movie_title', 'source', 'video_sales', \n",
      "                'keywords', 'worldwide_box', 'genre', 'audience_rating']\n",
      "\n",
      "    for f in franchise_dictionary.keys():\n",
      "        for movie in franchise_dictionary[f]:\n",
      "            for key in desired_keys:\n",
      "                if key not in movie.keys():\n",
      "                    movie[key]=''\n",
      "                    \n",
      "    return franchise_dictionary\n"
     ],
     "language": "python",
     "metadata": {},
     "outputs": [],
     "prompt_number": 5
    },
    {
     "cell_type": "code",
     "collapsed": false,
     "input": [
      "def organize_franchise(franchise):\n",
      "    new_sequence = []\n",
      "    previous_movie = franchise[0]\n",
      "    for index,movie in enumerate(franchise[1:]):\n",
      "        new_movie_dict = previous_movie.copy()\n",
      "\n",
      "        new_movie_dict['cast_overlap_2'] = cast_overlap(previous_movie, movie, 2)\n",
      "        new_movie_dict['cast_overlap_5'] = cast_overlap(previous_movie, movie, 5)\n",
      "        new_movie_dict['cast_overlap_10'] = cast_overlap(previous_movie, movie, 10)\n",
      "        \n",
      "        new_movie_dict['same_director'] = is_director_same(previous_movie, movie)\n",
      "        \n",
      "        new_movie_dict['sequel_worldwide_box'] = movie['worldwide_box']\n",
      "        new_movie_dict['sequel_budget'] = movie['budget']\n",
      "        new_movie_dict['sequel_release_date'] = movie['release_date']\n",
      "        \n",
      "        keys_to_remove = ['director','cast']\n",
      "        \n",
      "        new_movie_dict['movie_title'] = movie['movie_title']\n",
      "        new_movie_dict['sequel_domestic_box'] = movie['domestic_box']\n",
      "        new_movie_dict['number_in_series']=index+1\n",
      "        \n",
      "        \n",
      "        remove_from_dict(new_movie_dict,keys_to_remove)\n",
      "        \n",
      "        previous_movie = movie\n",
      "        new_sequence.append(new_movie_dict)\n",
      "        \n",
      "    return new_sequence \n",
      "    \n",
      "    \n",
      "def is_director_same(movie_dict_1,movie_dict_2):\n",
      "    directors_movie_1 = movie_dict_1['director']\n",
      "    directors_movie_2 = movie_dict_2['director']\n",
      "    \n",
      "    for director in directors_movie_1:\n",
      "        if director not in directors_movie_2:\n",
      "            return 0\n",
      "    return 1\n",
      "\n",
      "def cast_overlap(previous_movie_dict,sequel_movie_dict,num_to_check):\n",
      "    \n",
      "    previous_movie_cast = previous_movie_dict['cast']\n",
      "    sequel_movie_cast = sequel_movie_dict['cast']\n",
      "    \n",
      "    overlap_counter=0\n",
      "    if len(previous_movie_cast)<num_to_check:\n",
      "        num_to_check = len(previous_movie_cast)\n",
      "    \n",
      "    for x in range(num_to_check):\n",
      "        if previous_movie_cast[x] in sequel_movie_cast:\n",
      "            overlap_counter+=1\n",
      "    try:\n",
      "        return float(overlap_counter)/num_to_check\n",
      "    except:\n",
      "        return 0\n",
      "        \n",
      "def remove_from_dict(dictionary,keys_to_remove):\n",
      "    for key in keys_to_remove:\n",
      "        dictionary.pop(key)\n",
      "\n"
     ],
     "language": "python",
     "metadata": {},
     "outputs": [],
     "prompt_number": 6
    },
    {
     "cell_type": "code",
     "collapsed": false,
     "input": [
      "complete_franchise_dict = complete_data(franchise_dicts)\n",
      "\n",
      "movie_sequels = []\n",
      "for f in complete_franchise_dict:\n",
      "    movie_sequels+=organize_franchise(franchise_dicts[f])\n",
      "\n"
     ],
     "language": "python",
     "metadata": {},
     "outputs": [],
     "prompt_number": 7
    },
    {
     "cell_type": "code",
     "collapsed": false,
     "input": [
      "sequels_df = pd.DataFrame(movie_sequels)\n",
      "\n",
      "sequels_df['ones'] = 1\n",
      "sequels_df['time_between'] = sequels_df.sequel_release_date-sequels_df.release_date\n",
      "sequels_df['budget_box_interaction'] = sequels_df.sequel_budget*sequels_df.worldwide_box\n",
      "sequels_df['sequel_profit'] = sequels_df.sequel_worldwide_box - sequels_df.sequel_budget\n",
      "sequels_df['sequel_profit_percentage'] = sequels_df.sequel_profit/sequels_df.sequel_budget\n",
      "#sequels_df['']\n",
      "sequels_df = pd.concat([sequels_df,pd.get_dummies(sequels_df['rating'])],axis=1)\n",
      "sequels_df.dtypes\n",
      "\n",
      "\n",
      "\n",
      "#print sequels_df.groupby('genre').mean()[['sequel_worldwide_box']]\n",
      "print sequels_df.groupby('number_in_series').mean()[['sequel_worldwide_box']]\n",
      "print sequels_df.groupby('number_in_series').count()[['sequel_worldwide_box']]\n",
      "# print sequels_df[sequels_df.genre == \"Comedy\"]['movie_title']\n"
     ],
     "language": "python",
     "metadata": {},
     "outputs": [
      {
       "output_type": "stream",
       "stream": "stdout",
       "text": [
        "                  sequel_worldwide_box\n",
        "number_in_series                      \n",
        "1                         2.269949e+08\n",
        "2                         3.125820e+08\n",
        "3                         3.347701e+08\n",
        "4                         3.441928e+08\n",
        "5                         4.989489e+08\n",
        "6                         4.200371e+08\n",
        "7                         3.478674e+08\n",
        "8                         2.643483e+08\n",
        "9                         2.531316e+08\n",
        "10                        2.873292e+08\n",
        "11                        3.302072e+08\n",
        "12                        5.963650e+08\n",
        "13                        5.916921e+08\n",
        "14                        1.108694e+09\n",
        "                  sequel_worldwide_box\n",
        "number_in_series                      \n",
        "1                                  201\n",
        "2                                   80\n",
        "3                                   45\n",
        "4                                   24\n",
        "5                                   14\n",
        "6                                   11\n",
        "7                                    7\n",
        "8                                    5\n",
        "9                                    4\n",
        "10                                   3\n",
        "11                                   3\n",
        "12                                   1\n",
        "13                                   1\n",
        "14                                   1\n"
       ]
      }
     ],
     "prompt_number": 8
    },
    {
     "cell_type": "code",
     "collapsed": false,
     "input": [
      "#X = sequels_df[['ones','sequel_budget','worldwide_box','cast_overlap_2']]#,'cast_overlap_5','cast_overlap_10','same_director']]\n",
      "X = sequels_df[['ones','sequel_budget','worldwide_box']]\n",
      "Y = sequels_df['sequel_worldwide_box']\n",
      "\n",
      "linmodel = sm.OLS(Y,X).fit()\n",
      "linmodel.summary()"
     ],
     "language": "python",
     "metadata": {},
     "outputs": [
      {
       "html": [
        "<table class=\"simpletable\">\n",
        "<caption>OLS Regression Results</caption>\n",
        "<tr>\n",
        "  <th>Dep. Variable:</th>    <td>sequel_worldwide_box</td> <th>  R-squared:         </th> <td>   0.767</td> \n",
        "</tr>\n",
        "<tr>\n",
        "  <th>Model:</th>                     <td>OLS</td>         <th>  Adj. R-squared:    </th> <td>   0.766</td> \n",
        "</tr>\n",
        "<tr>\n",
        "  <th>Method:</th>               <td>Least Squares</td>    <th>  F-statistic:       </th> <td>   653.4</td> \n",
        "</tr>\n",
        "<tr>\n",
        "  <th>Date:</th>               <td>Fri, 19 Sep 2014</td>   <th>  Prob (F-statistic):</th> <td>2.62e-126</td>\n",
        "</tr>\n",
        "<tr>\n",
        "  <th>Time:</th>                   <td>09:57:11</td>       <th>  Log-Likelihood:    </th> <td> -8077.9</td> \n",
        "</tr>\n",
        "<tr>\n",
        "  <th>No. Observations:</th>        <td>   400</td>        <th>  AIC:               </th> <td>1.616e+04</td>\n",
        "</tr>\n",
        "<tr>\n",
        "  <th>Df Residuals:</th>            <td>   397</td>        <th>  BIC:               </th> <td>1.617e+04</td>\n",
        "</tr>\n",
        "<tr>\n",
        "  <th>Df Model:</th>                <td>     2</td>        <th>                     </th>     <td> </td>    \n",
        "</tr>\n",
        "</table>\n",
        "<table class=\"simpletable\">\n",
        "<tr>\n",
        "        <td></td>           <th>coef</th>     <th>std err</th>      <th>t</th>      <th>P>|t|</th> <th>[95.0% Conf. Int.]</th> \n",
        "</tr>\n",
        "<tr>\n",
        "  <th>ones</th>          <td>-1.869e+07</td> <td> 1.11e+07</td> <td>   -1.678</td> <td> 0.094</td> <td>-4.06e+07  3.21e+06</td>\n",
        "</tr>\n",
        "<tr>\n",
        "  <th>sequel_budget</th> <td>    1.8356</td> <td>    0.156</td> <td>   11.753</td> <td> 0.000</td> <td>    1.529     2.143</td>\n",
        "</tr>\n",
        "<tr>\n",
        "  <th>worldwide_box</th> <td>    0.6080</td> <td>    0.038</td> <td>   15.866</td> <td> 0.000</td> <td>    0.533     0.683</td>\n",
        "</tr>\n",
        "</table>\n",
        "<table class=\"simpletable\">\n",
        "<tr>\n",
        "  <th>Omnibus:</th>       <td>121.880</td> <th>  Durbin-Watson:     </th> <td>   2.005</td> \n",
        "</tr>\n",
        "<tr>\n",
        "  <th>Prob(Omnibus):</th> <td> 0.000</td>  <th>  Jarque-Bera (JB):  </th> <td> 643.583</td> \n",
        "</tr>\n",
        "<tr>\n",
        "  <th>Skew:</th>          <td> 1.194</td>  <th>  Prob(JB):          </th> <td>1.77e-140</td>\n",
        "</tr>\n",
        "<tr>\n",
        "  <th>Kurtosis:</th>      <td> 8.737</td>  <th>  Cond. No.          </th> <td>     nan</td> \n",
        "</tr>\n",
        "</table>"
       ],
       "metadata": {},
       "output_type": "pyout",
       "prompt_number": 9,
       "text": [
        "<class 'statsmodels.iolib.summary.Summary'>\n",
        "\"\"\"\n",
        "                             OLS Regression Results                             \n",
        "================================================================================\n",
        "Dep. Variable:     sequel_worldwide_box   R-squared:                       0.767\n",
        "Model:                              OLS   Adj. R-squared:                  0.766\n",
        "Method:                   Least Squares   F-statistic:                     653.4\n",
        "Date:                  Fri, 19 Sep 2014   Prob (F-statistic):          2.62e-126\n",
        "Time:                          09:57:11   Log-Likelihood:                -8077.9\n",
        "No. Observations:                   400   AIC:                         1.616e+04\n",
        "Df Residuals:                       397   BIC:                         1.617e+04\n",
        "Df Model:                             2                                         \n",
        "=================================================================================\n",
        "                    coef    std err          t      P>|t|      [95.0% Conf. Int.]\n",
        "---------------------------------------------------------------------------------\n",
        "ones          -1.869e+07   1.11e+07     -1.678      0.094     -4.06e+07  3.21e+06\n",
        "sequel_budget     1.8356      0.156     11.753      0.000         1.529     2.143\n",
        "worldwide_box     0.6080      0.038     15.866      0.000         0.533     0.683\n",
        "==============================================================================\n",
        "Omnibus:                      121.880   Durbin-Watson:                   2.005\n",
        "Prob(Omnibus):                  0.000   Jarque-Bera (JB):              643.583\n",
        "Skew:                           1.194   Prob(JB):                    1.77e-140\n",
        "Kurtosis:                       8.737   Cond. No.                          nan\n",
        "==============================================================================\n",
        "\n",
        "Warnings:\n",
        "[1] The smallest eigenvalue is -1.65e+18. This might indicate that there are\n",
        "strong multicollinearity problems or that the design matrix is singular.\n",
        "\"\"\""
       ]
      }
     ],
     "prompt_number": 9
    },
    {
     "cell_type": "code",
     "collapsed": false,
     "input": [
      "plt.scatter(sequels_df['worldwide_box'],sequels_df['sequel_worldwide_box'])\n",
      "plt.plot(sequels_df['worldwide_box'],linmodel.predict(X),'rs')\n",
      "#plt.plot(sequels_df['worldwide_box'],sequels_df['worldwide_box'],'g--')\n",
      "\n",
      "plt.xlabel('Previous Movie Box Office')\n",
      "plt.ylabel('Sequel Box Office')"
     ],
     "language": "python",
     "metadata": {},
     "outputs": [
      {
       "metadata": {},
       "output_type": "pyout",
       "prompt_number": 10,
       "text": [
        "<matplotlib.text.Text at 0x10b0affd0>"
       ]
      },
      {
       "metadata": {},
       "output_type": "display_data",
       "png": "[encoded data removed]",
       "text": [
        "<matplotlib.figure.Figure at 0x10b090210>"
       ]
      }
     ],
     "prompt_number": 10
    },
    {
     "cell_type": "code",
     "collapsed": false,
     "input": [
      "def square(x):\n",
      "    return x**2\n",
      "\n",
      "residuals = Y - linmodel.predict(X)\n",
      "residuals_squared = residuals.apply(square)\n",
      "variance = residuals_squared.mean()\n",
      "std = math.sqrt(variance)\n",
      "print std\n",
      "\n",
      "print np.std(residuals)\n",
      "\n"
     ],
     "language": "python",
     "metadata": {},
     "outputs": [
      {
       "output_type": "stream",
       "stream": "stdout",
       "text": [
        "142626494.285\n",
        "142626494.285\n"
       ]
      }
     ],
     "prompt_number": 11
    },
    {
     "cell_type": "code",
     "collapsed": false,
     "input": [
      "# Challenge 1\n",
      "def simulate_gross_model(sequel_budget, worldwide_box):\n",
      "    return -1.869e+07 + (1.8356*sequel_budget) + (0.6080*worldwide_box)+random.gauss(0,std)\n",
      "\n",
      "simulated_y = simulate_gross_model(X.sequel_budget,X.worldwide_box)\n",
      "\n",
      "\n",
      "plt.scatter(X.worldwide_box,Y)\n",
      "plt.plot(X.worldwide_box,simulated_y,'ro')"
     ],
     "language": "python",
     "metadata": {},
     "outputs": [
      {
       "metadata": {},
       "output_type": "pyout",
       "prompt_number": 12,
       "text": [
        "[<matplotlib.lines.Line2D at 0x10b122590>]"
       ]
      },
      {
       "metadata": {},
       "output_type": "display_data",
       "png": "[encoded data removed]",
       "text": [
        "<matplotlib.figure.Figure at 0x10b122d10>"
       ]
      }
     ],
     "prompt_number": 12
    },
    {
     "cell_type": "code",
     "collapsed": true,
     "input": [
      "# Challenge 2\n",
      "\n",
      "# Generate (fake) data that is linearly related to log(x). \n",
      "# Basically write an underlying model just like in challenge 1, but instead of a fitted model, you are making this model up.\n",
      "# It is of the form B0 + B1log(x) + epsilon. You are making up the parameters.\n",
      "# Simulate some data from this model. Then fit two models to it:\n",
      "# a) quadratic [second degree polynomial] \n",
      "# b) logarithmic [log(x)]\n",
      "# (the second one should fit really well, since it has the same form as the underlying model!)\n",
      "\n",
      "def fake_logx_data(x):\n",
      "    return 100 + 100*math.log(x)+random.gauss(0,10)\n",
      "\n",
      "def quad(x):\n",
      "    return x**2\n",
      "\n",
      "x_data=range(1,100)\n",
      "y_data=[]\n",
      "for x in x_data:\n",
      "    y_data.append(fake_logx_data(x))\n",
      "\n",
      "df = pd.DataFrame(x_data)\n",
      "df['Y'] = y_data\n",
      "df['ones']=1\n",
      "df['quadX']=df[0].apply(quad)\n",
      "df['logX'] = df[0].apply(math.log)\n",
      "\n",
      "\n",
      "\n",
      "quadX = df[['ones','quadX']]\n",
      "logX = df[['ones','logX']]\n",
      "Y = df['Y']\n",
      "\n",
      "linmodel_quad = sm.OLS(Y,quadX).fit()\n",
      "linmodel_log = sm.OLS(Y,logX).fit()\n",
      "\n",
      "print \"Quadratic X Output\"\n",
      "print linmodel_quad.summary()\n",
      "\n",
      "print \"\\n\\n\"\n",
      "\n",
      "print \"Logarithmic X Output\"\n",
      "print linmodel_log.summary()\n",
      "\n",
      "fig, ax = plt.subplots(2,1)\n",
      "\n",
      "ax[0].set_title('Quadratic')\n",
      "ax[0].scatter(df[0],df['Y'])\n",
      "ax[0].plot(df[0],linmodel_quad.predict(quadX),'r')\n",
      "\n",
      "ax[1].set_title('Logarithmic')\n",
      "ax[1].scatter(df[0],df['Y'])\n",
      "ax[1].plot(df[0],linmodel_log.predict(logX),'r')"
     ],
     "language": "python",
     "metadata": {},
     "outputs": [
      {
       "output_type": "stream",
       "stream": "stdout",
       "text": [
        "Quadratic X Output\n",
        "                            OLS Regression Results                            \n",
        "==============================================================================\n",
        "Dep. Variable:                      Y   R-squared:                       0.599\n",
        "Model:                            OLS   Adj. R-squared:                  0.595\n",
        "Method:                 Least Squares   F-statistic:                     144.9\n",
        "Date:                Fri, 19 Sep 2014   Prob (F-statistic):           5.82e-21\n",
        "Time:                        09:57:11   Log-Likelihood:                -546.36\n",
        "No. Observations:                  99   AIC:                             1097.\n",
        "Df Residuals:                      97   BIC:                             1102.\n",
        "Df Model:                           1                                         \n",
        "==============================================================================\n",
        "                 coef    std err          t      P>|t|      [95.0% Conf. Int.]\n",
        "------------------------------------------------------------------------------\n",
        "ones         378.8873      9.218     41.102      0.000       360.592   397.183\n",
        "quadX          0.0250      0.002     12.039      0.000         0.021     0.029\n",
        "==============================================================================\n",
        "Omnibus:                       59.452   Durbin-Watson:                   0.068\n",
        "Prob(Omnibus):                  0.000   Jarque-Bera (JB):              212.369\n",
        "Skew:                          -2.114   Prob(JB):                     7.67e-47\n",
        "Kurtosis:                       8.797   Cond. No.                     6.68e+03\n",
        "==============================================================================\n",
        "\n",
        "Warnings:\n",
        "[1] The condition number is large, 6.68e+03. This might indicate that there are\n",
        "strong multicollinearity or other numerical problems.\n",
        "\n",
        "\n",
        "\n",
        "Logarithmic X Output\n",
        "                            OLS Regression Results                            \n",
        "==============================================================================\n",
        "Dep. Variable:                      Y   R-squared:                       0.992\n",
        "Model:                            OLS   Adj. R-squared:                  0.992\n",
        "Method:                 Least Squares   F-statistic:                 1.191e+04\n",
        "Date:                Fri, 19 Sep 2014   Prob (F-statistic):          2.55e-103\n",
        "Time:                        09:57:11   Log-Likelihood:                -353.07\n",
        "No. Observations:                  99   AIC:                             710.1\n",
        "Df Residuals:                      97   BIC:                             715.3\n",
        "Df Model:                           1                                         \n",
        "==============================================================================\n",
        "                 coef    std err          t      P>|t|      [95.0% Conf. Int.]\n",
        "------------------------------------------------------------------------------\n",
        "ones          88.7951      3.526     25.181      0.000        81.796    95.794\n",
        "logX         102.8279      0.942    109.153      0.000       100.958   104.698\n",
        "==============================================================================\n",
        "Omnibus:                        2.473   Durbin-Watson:                   2.028\n",
        "Prob(Omnibus):                  0.290   Jarque-Bera (JB):                2.114\n",
        "Skew:                           0.357   Prob(JB):                        0.348\n",
        "Kurtosis:                       3.062   Cond. No.                         16.2\n",
        "==============================================================================\n"
       ]
      },
      {
       "metadata": {},
       "output_type": "pyout",
       "prompt_number": 13,
       "text": [
        "[<matplotlib.lines.Line2D at 0x10b460ed0>]"
       ]
      },
      {
       "metadata": {},
       "output_type": "display_data",
       "png": "[encoded data removed]",
       "text": [
        "<matplotlib.figure.Figure at 0x10b310bd0>"
       ]
      }
     ],
     "prompt_number": 13
    },
    {
     "cell_type": "code",
     "collapsed": false,
     "input": [
      "# Challenge 3\n",
      "\n",
      "# Fit a model to your training set. Calculate mean squared error on your training set. Then calculate it on your test set.\n",
      "# (You can use sklearn.metrics.mean_squared_error )\n",
      "\n",
      "#training_set = sequels_df[]\n",
      "\n",
      "training_length = len(sequels_df)*3/4\n",
      "training_indices = random.sample(sequels_df.index,training_length)\n",
      "training_set = sequels_df.ix[training_indices]\n",
      "\n",
      "test_indices = set(sequels_df.index) - set(training_indices)\n",
      "test_set = sequels_df.ix[test_indices]\n",
      "\n",
      "X_training = training_set[['ones','worldwide_box','sequel_budget']]\n",
      "Y_training = training_set['sequel_worldwide_box']\n",
      "\n",
      "print type(X_training)\n",
      "\n",
      "linmodel_test = sm.OLS(Y_training, X_training).fit()\n",
      "linmodel_test.summary()\n",
      "\n",
      "Y_training_predicted = linmodel.predict(X_training)\n",
      "training_mse = sk.mean_squared_error(Y_training,Y_training_predicted)\n",
      "\n",
      "X_test = test_set[['ones','worldwide_box','sequel_budget']]\n",
      "Y_test = test_set['sequel_worldwide_box']\n",
      "Y_test_predicted = linmodel.predict(X_test)\n",
      "\n",
      "test_mse = sk.mean_squared_error(Y_test,Y_test_predicted)\n",
      "\n",
      "print 'training set mean squared error:', training_mse\n",
      "print 'test set mean squared error', test_mse"
     ],
     "language": "python",
     "metadata": {},
     "outputs": [
      {
       "output_type": "stream",
       "stream": "stdout",
       "text": [
        "<class 'pandas.core.frame.DataFrame'>\n",
        "training set mean squared error: 1.63284252518e+17\n",
        "test set mean squared error 1.44079832521e+17\n"
       ]
      }
     ],
     "prompt_number": 14
    },
    {
     "cell_type": "code",
     "collapsed": false,
     "input": [
      "# Challenge 4\n",
      "\n",
      "# For one continuous feature (like budget, choose one that strongly affects the outcome),\n",
      "# try polynomial fits from 0th (just constant) to 7th order (highest term x^7).\n",
      "# Over the x axis of model degree (8 points), plot:\n",
      "# a) training error\n",
      "# b) test error\n",
      "# c) R squared\n",
      "# d) AIC\n",
      "\n",
      "degrees = range(8)\n",
      "\n",
      "def power(val,exp):\n",
      "    return val ** exp\n",
      "\n",
      "linmodels = []\n",
      "X_included = []\n",
      "Y_training_actual = training_set.sequel_worldwide_box\n",
      "for degree in degrees:\n",
      "    header = \"worldwide_box_degree\" + str(degree)\n",
      "    training_set[header] = (training_set.worldwide_box.apply(power,args=(degree,)))\n",
      "    X_to_include = []\n",
      "    for exp in range(degree+1):\n",
      "        X_to_include.append(\"worldwide_box_degree\" + str(exp))\n",
      "    X_training = training_set[X_to_include]\n",
      "    \n",
      "    linmodels.append(sm.OLS(Y_training_actual,X_training).fit())\n",
      "    X_included.append(X_training)\n",
      "\n",
      "    \n",
      "Y_test_actual = test_set.sequel_worldwide_box\n",
      "for degree in degrees:\n",
      "    header = \"worldwide_box_degree\" + str(degree)\n",
      "    test_set[header] = (test_set.worldwide_box.apply(power,args=(degree,)))\n",
      "\n",
      "# print X_included[0]['worldwide_box_degree0']==X_included[1]['worldwide_box_degree0']\n",
      "# print X_included[1].dtypes\n",
      "training_mse = []\n",
      "test_mse = []\n",
      "r_squared = []\n",
      "aic_list = []\n",
      "for degree in degrees:\n",
      "    training_predicted = linmodels[degree].predict(X_included[degree])\n",
      "    training_mean_squared_error = sk.mean_squared_error(Y_training_actual,training_predicted)\n",
      "    training_mse.append(training_mean_squared_error)\n",
      "    \n",
      "    X_test = test_set[X_included[degree].columns.values]\n",
      "    test_predicted = linmodels[degree].predict(X_test)\n",
      "    test_mean_squared_error = sk.mean_squared_error(Y_test_actual,test_predicted)\n",
      "    test_mse.append(test_mean_squared_error)\n",
      "    \n",
      "    r_squared.append( linmodels[degree].rsquared )\n",
      "    aic_list.append( linmodels[degree].aic )\n",
      "    \n",
      "fig, ax = plt.subplots(3,1,figsize=(10,10))\n",
      "ax[0].plot(degrees,training_mse)\n",
      "ax[0].plot(degrees,test_mse,'r')\n",
      "ax[1].plot(degrees,r_squared)\n",
      "ax[2].plot(degrees,aic_list)\n"
     ],
     "language": "python",
     "metadata": {},
     "outputs": [
      {
       "metadata": {},
       "output_type": "pyout",
       "prompt_number": 15,
       "text": [
        "[<matplotlib.lines.Line2D at 0x10b6a9e90>]"
       ]
      },
      {
       "metadata": {},
       "output_type": "display_data",
       "png": "[encoded data removed]",
       "text": [
        "<matplotlib.figure.Figure at 0x10b2f70d0>"
       ]
      }
     ],
     "prompt_number": 15
    },
    {
     "cell_type": "code",
     "collapsed": false,
     "input": [
      "# Challenge 5\n",
      "\n",
      "# Fit a model to only the first 5 of your data points (m=5).\n",
      "# Then to first 10 (m=10). Then to first 15 (m=15). In this manner, keep fitting until you fit your entire training set.\n",
      "# For each step, calculate the training error and the test error. Plot both (in the same plot) over m.\n",
      "# This is called a learning curve.\n",
      "\n",
      "X_5_test = test_set[['worldwide_box']]\n",
      "Y_5_test = test_set.sequel_worldwide_box\n",
      "\n",
      "X_5_training = training_set[['worldwide_box']]\n",
      "Y_5_training = training_set.sequel_worldwide_box\n",
      "\n",
      "training_error = []\n",
      "test_error = []\n",
      "\n",
      "split_index=5\n",
      "while split_index < len(training_set):\n",
      "    training_sub = training_set[:split_index]\n",
      "    #test_df = sequels_df[split_index:]\n",
      "    \n",
      "    X_5_training_sub = training_sub[['worldwide_box']]\n",
      "    Y_5_training_sub = training_sub.sequel_worldwide_box\n",
      "    \n",
      "    linmodel_5 = sm.OLS(Y_5_training_sub,X_5_training_sub).fit()\n",
      "    \n",
      "    training_error.append(sk.mean_squared_error(Y_5_training, linmodel_5.predict(X_5_training)))\n",
      "    test_error.append(sk.mean_squared_error(Y_5_test, linmodel_5.predict(X_5_test)))\n",
      "    \n",
      "    split_index += 5\n",
      "    \n",
      "plt.plot(range(len(training_error)),training_error,'g')\n",
      "plt.plot(range(len(test_error)),test_error,'r')\n",
      "\n"
     ],
     "language": "python",
     "metadata": {},
     "outputs": [
      {
       "metadata": {},
       "output_type": "pyout",
       "prompt_number": 16,
       "text": [
        "[<matplotlib.lines.Line2D at 0x10b905390>]"
       ]
      },
      {
       "metadata": {},
       "output_type": "display_data",
       "png": "[encoded data removed]",
       "text": [
        "<matplotlib.figure.Figure at 0x10affd2d0>"
       ]
      }
     ],
     "prompt_number": 16
    },
    {
     "cell_type": "code",
     "collapsed": false,
     "input": [
      "with open(\"sequels_df.pkl\",'w') as writefile:\n",
      "    pickle.dump(sequels_df,writefile)"
     ],
     "language": "python",
     "metadata": {},
     "outputs": [],
     "prompt_number": 17
    },
    {
     "cell_type": "code",
     "collapsed": false,
     "input": [],
     "language": "python",
     "metadata": {},
     "outputs": [],
     "prompt_number": 17
    }
   ],
   "metadata": {}
  }
 ]
}