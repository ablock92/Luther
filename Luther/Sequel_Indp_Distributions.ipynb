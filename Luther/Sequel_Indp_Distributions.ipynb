{
 "metadata": {
  "name": "",
  "signature": "sha256:661dfc92b945ea3bb8b12c7cea3aedaa58be691bb4b8b36cc8c713e059a303db"
 },
 "nbformat": 3,
 "nbformat_minor": 0,
 "worksheets": [
  {
   "cells": [
    {
     "cell_type": "code",
     "collapsed": false,
     "input": [
      "% matplotlib inline\n",
      "import pickle\n",
      "import pandas as pd\n",
      "import matplotlib.pyplot as plt\n",
      "import numpy as np\n",
      "import datetime"
     ],
     "language": "python",
     "metadata": {},
     "outputs": [],
     "prompt_number": 1
    },
    {
     "cell_type": "code",
     "collapsed": false,
     "input": [
      "with open ('sequels_df.pkl','r') as picklefile:\n",
      "    sequels_df = pickle.load(picklefile)"
     ],
     "language": "python",
     "metadata": {},
     "outputs": [],
     "prompt_number": 2
    },
    {
     "cell_type": "code",
     "collapsed": false,
     "input": [
      "with open('database_file.pkl','r') as picklefile:\n",
      "    movies = pickle.load(picklefile)"
     ],
     "language": "python",
     "metadata": {},
     "outputs": [],
     "prompt_number": 3
    },
    {
     "cell_type": "code",
     "collapsed": false,
     "input": [
      "def change_value(dataframe, column_header, old_val, new_val):\n",
      "    dataframe[column_header][dataframe[column_header]==old_val] = new_val\n",
      "    return dataframe"
     ],
     "language": "python",
     "metadata": {},
     "outputs": [],
     "prompt_number": 4
    },
    {
     "cell_type": "code",
     "collapsed": false,
     "input": [
      "movies_df = pd.DataFrame(movies)\n",
      "\n",
      "movies_df = change_value(movies_df,'rating','GP','PG')\n",
      "movies_df = change_value(movies_df,'rating','M','PG')\n",
      "movies_df = change_value(movies_df,'rating','M/PG','PG')\n",
      "movies_df = movies_df[movies_df['rating']!=\"Not Yet Rated\"]\n",
      "movies_df = movies_df[movies_df['rating']!=\"Unknown\"]\n",
      "movies_df = change_value(movies_df,'rating','X','NC-17')\n",
      "\n",
      "movies_dist = movies_df.groupby('rating').count()['movie title']\n"
     ],
     "language": "python",
     "metadata": {},
     "outputs": [],
     "prompt_number": 5
    },
    {
     "cell_type": "code",
     "collapsed": false,
     "input": [
      "sequels_df = sequels_df[sequels_df['rating']!='']\n",
      "sequels_df = change_value(sequels_df,'rating','G(Rating','G')\n",
      "\n",
      "sequel_dist = sequels_df.groupby('rating').count().movie_title\n",
      "sequel_dist\n",
      "movies_dist"
     ],
     "language": "python",
     "metadata": {},
     "outputs": [
      {
       "metadata": {},
       "output_type": "pyout",
       "prompt_number": 6,
       "text": [
        "rating\n",
        "G           438\n",
        "NC-17        33\n",
        "PG         1898\n",
        "PG-13      2595\n",
        "R          5291\n",
        "Unrated    4032\n",
        "Name: movie title, dtype: int64"
       ]
      }
     ],
     "prompt_number": 6
    },
    {
     "cell_type": "code",
     "collapsed": false,
     "input": [
      "##BY RATING\n",
      "\n",
      "ratings = list(movies_dist.index)\n",
      "ratings = ratings[:-1] # Take out unrated\n",
      "\n",
      "# all movies\n",
      "frequencies_all = list(movies_dist.values)\n",
      "frequencies_all=frequencies_all[:-1] # Take out unrated\n",
      "frequency_percentage_all = [float(f)/sum(frequencies_all) for f in frequencies_all]\n",
      "pos_all = range(len(ratings))\n",
      "for p in range(len(ratings)):\n",
      "    pos_all[p] = p+p*0.1\n",
      "\n",
      "# sequels\n",
      "frequencies_sequel = list(sequel_dist.values)\n",
      "frequencies_sequel.insert(1,0) # empty for NC-17\n",
      "frequency_percentage_seq = [float(f)/sum(frequencies_sequel) for f in frequencies_sequel]\n",
      "pos_seq = [p + 0.5 for p in pos_all]\n",
      "\n",
      "#\n",
      "\n",
      "\n",
      "width = 0.5\n",
      "ax = plt.axes()\n",
      "ax.set_xlabel(\"Rating\")\n",
      "ax.set_ylabel(\"Percentage of Movies Made\")\n",
      "ax.set_xticks(pos_seq)\n",
      "ax.set_xticklabels(ratings)\n",
      "\n",
      "plt.bar(pos_all, frequency_percentage_all, width, color='b',alpha=0.5)\n",
      "plt.bar(pos_seq, frequency_percentage_seq, width, color='r',alpha=0.5)\n",
      "\n",
      "plt.legend(['All Movies','Sequel Movies'],loc='upper left')\n",
      "\n",
      "plt.title('Distribution of Movies by Rating and Movie Type')"
     ],
     "language": "python",
     "metadata": {},
     "outputs": [
      {
       "metadata": {},
       "output_type": "pyout",
       "prompt_number": 7,
       "text": [
        "<matplotlib.text.Text at 0x11512ea50>"
       ]
      },
      {
       "metadata": {},
       "output_type": "display_data",
       "png": "[encoded data removed]",
       "text": [
        "<matplotlib.figure.Figure at 0x113957e10>"
       ]
      }
     ],
     "prompt_number": 7
    },
    {
     "cell_type": "code",
     "collapsed": false,
     "input": [
      "movies_df.budget"
     ],
     "language": "python",
     "metadata": {},
     "outputs": [
      {
       "metadata": {},
       "output_type": "pyout",
       "prompt_number": 8,
       "text": [
        "0            None\n",
        "1            None\n",
        "2       7500000.0\n",
        "3            None\n",
        "4            None\n",
        "6            None\n",
        "7            None\n",
        "8            None\n",
        "9            None\n",
        "10     30000000.0\n",
        "11           None\n",
        "12           None\n",
        "13    105000000.0\n",
        "14           None\n",
        "15           None\n",
        "...\n",
        "14640          None\n",
        "14641          None\n",
        "14642          None\n",
        "14643          None\n",
        "14644    23600000.0\n",
        "14645          None\n",
        "14646    80000000.0\n",
        "14647    28000000.0\n",
        "14648          None\n",
        "14649          None\n",
        "14650          None\n",
        "14651          None\n",
        "14652          None\n",
        "14653          None\n",
        "14654     2000000.0\n",
        "Name: budget, Length: 14288, dtype: object"
       ]
      }
     ],
     "prompt_number": 8
    },
    {
     "cell_type": "code",
     "collapsed": false,
     "input": [
      "movies_with_budget = movies_df[ - movies_df.budget.isnull()]\n",
      "movies_with_budget['budget'] = movies_with_budget.budget.apply(float)\n",
      "movies_with_budget.dtypes"
     ],
     "language": "python",
     "metadata": {},
     "outputs": [
      {
       "output_type": "stream",
       "stream": "stderr",
       "text": [
        "-c:2: SettingWithCopyWarning: A value is trying to be set on a copy of a slice from a DataFrame.\n",
        "Try using .loc[row_index,col_indexer] = value instead\n"
       ]
      },
      {
       "metadata": {},
       "output_type": "pyout",
       "prompt_number": 9,
       "text": [
        "actors                          object\n",
        "budget                         float64\n",
        "composers                       object\n",
        "directors                       object\n",
        "domestic_total_gross           float64\n",
        "genre                           object\n",
        "movie title                     object\n",
        "opening_weekend                float64\n",
        "producers                       object\n",
        "rating                          object\n",
        "release date            datetime64[ns]\n",
        "runtime                        float64\n",
        "dtype: object"
       ]
      }
     ],
     "prompt_number": 9
    },
    {
     "cell_type": "code",
     "collapsed": false,
     "input": [
      "movies_with_all = movies_with_budget[ - movies_with_budget.domestic_total_gross.isnull()]"
     ],
     "language": "python",
     "metadata": {},
     "outputs": [],
     "prompt_number": 10
    },
    {
     "cell_type": "code",
     "collapsed": false,
     "input": [
      "profits_all = movies_with_all.domestic_total_gross.values - movies_with_all.budget.values\n",
      "profits_prev = sequels_df.domestic_box.apply(float).values - sequels_df.budget.apply(float).values\n",
      "profits_seq = sequels_df.sequel_domestic_box.apply(float).values-sequels_df.sequel_budget.apply(float).values\n",
      "\n",
      "weights_all = np.ones_like(profits_all)/len(profits_all)\n",
      "h = plt.hist(profits_all, weights=weights_all,alpha=0.3,bins=10**np.linspace(4,9,20),color='b')\n",
      "\n",
      "weights_seq = np.ones_like(profits_seq)/len(profits_seq)\n",
      "plt.hist(profits_prev,weights=weights_seq,alpha=0.3,bins=h[1],color='r')\n",
      "plt.hist(profits_seq,weights=weights_seq,alpha=1,bins=h[1],color='black',histtype='step',linewidth=4.0)\n",
      "\n",
      "\n",
      "plt.xscale('log')\n",
      "\n",
      "plt.xlabel('Production Budget')\n",
      "plt.legend(['Sequels','All Movies','Movies with Sequels'],loc='upper left')"
     ],
     "language": "python",
     "metadata": {},
     "outputs": [
      {
       "metadata": {},
       "output_type": "pyout",
       "prompt_number": 20,
       "text": [
        "<matplotlib.legend.Legend at 0x1162e3b50>"
       ]
      },
      {
       "metadata": {},
       "output_type": "display_data",
       "png": "[encoded data removed]",
       "text": [
        "<matplotlib.figure.Figure at 0x1152b2ed0>"
       ]
      }
     ],
     "prompt_number": 20
    },
    {
     "cell_type": "code",
     "collapsed": false,
     "input": [
      "budgets_all = movies_with_budget.budget.values\n",
      "budgets_prev = sequels_df.budget.apply(float).values\n",
      "budgets_seq = sequels_df.sequel_budget.apply(float).values\n",
      "\n",
      "weights_all = np.ones_like(budgets_all)/len(budgets_all)\n",
      "h = plt.hist(budgets_all, weights=weights_all,alpha=0.3,bins=10**np.linspace(4,9,20),color='b')\n",
      "\n",
      "weights_seq = np.ones_like(budgets_seq)/len(budgets_seq)\n",
      "plt.hist(budgets_prev,weights=weights_seq,alpha=0.3,bins=h[1],color='r')\n",
      "plt.hist(budgets_seq,weights=weights_seq,alpha=1,bins=h[1],color='black',histtype='step',linewidth=4.0)\n",
      "\n",
      "\n",
      "plt.xscale('log')\n",
      "\n",
      "plt.xlabel('Production Budget')\n",
      "plt.legend(['Sequels','All Movies','Movies with Sequels'],loc='upper left')"
     ],
     "language": "python",
     "metadata": {},
     "outputs": [
      {
       "metadata": {},
       "output_type": "pyout",
       "prompt_number": 12,
       "text": [
        "<matplotlib.legend.Legend at 0x115078fd0>"
       ]
      },
      {
       "metadata": {},
       "output_type": "display_data",
       "png": "[encoded data removed]",
       "text": [
        "<matplotlib.figure.Figure at 0x11473fc50>"
       ]
      }
     ],
     "prompt_number": 12
    },
    {
     "cell_type": "code",
     "collapsed": false,
     "input": [
      "movies_with_gross = movies_df[ - movies_df.domestic_total_gross.isnull()]\n",
      "movies_with_gross['domestic_total_gross'] = movies_with_gross.domestic_total_gross.apply(float)\n"
     ],
     "language": "python",
     "metadata": {},
     "outputs": [],
     "prompt_number": 13
    },
    {
     "cell_type": "code",
     "collapsed": false,
     "input": [
      "domestic_all = movies_with_gross.domestic_total_gross.values\n",
      "domestic_prev = sequels_df.domestic_box.apply(float).values\n",
      "domestic_seq = sequels_df.sequel_domestic_box.apply(float).values\n",
      "\n",
      "weights_all = np.ones_like(domestic_all)/len(domestic_all)\n",
      "#h = plt.hist(domestic_all, weights=weights_all,alpha=0.3,color='b')\n",
      "h = plt.hist(domestic_all, weights=weights_all,bins=10**np.linspace(2,11,20),alpha=0.3,color='b')#,histtype='step')\n",
      "\n",
      "weights_seq = np.ones_like(domestic_seq)/len(domestic_seq)\n",
      "#plt.hist(domestic_seq,weights=weights_seq,alpha=0.3,bins=h[1],color='r')\n",
      "plt.hist(domestic_prev,weights=weights_seq,alpha=0.3,bins=10**np.linspace(2,11,20),color='r',)#histtype='step')\n",
      "plt.hist(domestic_seq,weights=weights_seq,alpha=1,bins=10**np.linspace(2,11,20),color='black',histtype='step',linewidth=4.0)\n",
      "#plt.hist(domestic_prev,weights=weights_seq,alpha=0.3,bins=10**np.linspace(2,11,20),color='g')\n",
      "\n",
      "plt.xlabel('Total Gross')\n",
      "plt.legend(['Sequels','All Movies','Movies with Sequels'],loc='upper left')\n",
      "plt.xscale('log')\n"
     ],
     "language": "python",
     "metadata": {},
     "outputs": [
      {
       "metadata": {},
       "output_type": "display_data",
       "png": "[encoded data removed]",
       "text": [
        "<matplotlib.figure.Figure at 0x114140ed0>"
       ]
      }
     ],
     "prompt_number": 14
    },
    {
     "cell_type": "code",
     "collapsed": false,
     "input": [
      "sequels_df.dtypes"
     ],
     "language": "python",
     "metadata": {},
     "outputs": [
      {
       "metadata": {},
       "output_type": "pyout",
       "prompt_number": 15,
       "text": [
        "audience_rating                      object\n",
        "budget                                int64\n",
        "cast_overlap_10                     float64\n",
        "cast_overlap_2                      float64\n",
        "cast_overlap_5                      float64\n",
        "creative_type                        object\n",
        "critics_rating                       object\n",
        "domestic_box                          int64\n",
        "domestic_opening                      int64\n",
        "genre                                object\n",
        "keywords                             object\n",
        "movie_title                          object\n",
        "number_in_series                      int64\n",
        "production_method                    object\n",
        "rating                               object\n",
        "release_date                 datetime64[ns]\n",
        "same_director                         int64\n",
        "sequel_budget                         int64\n",
        "sequel_domestic_box                   int64\n",
        "sequel_release_date          datetime64[ns]\n",
        "sequel_worldwide_box                  int64\n",
        "source                               object\n",
        "video_sales                          object\n",
        "worldwide_box                         int64\n",
        "ones                                  int64\n",
        "time_between                timedelta64[ns]\n",
        "budget_box_interaction                int64\n",
        "sequel_profit                         int64\n",
        "sequel_profit_percentage            float64\n",
        "                                    float64\n",
        "G                                   float64\n",
        "G(Rating                            float64\n",
        "PG                                  float64\n",
        "PG-13                               float64\n",
        "R                                   float64\n",
        "dtype: object"
       ]
      }
     ],
     "prompt_number": 15
    },
    {
     "cell_type": "code",
     "collapsed": false,
     "input": [],
     "language": "python",
     "metadata": {},
     "outputs": [],
     "prompt_number": 15
    },
    {
     "cell_type": "code",
     "collapsed": false,
     "input": [
      "#movies_with_gross[movies_with_gross.domestic_total_gross==0]\n",
      "movies_with_date = movies_df[-movies_df['release date'].isnull()]"
     ],
     "language": "python",
     "metadata": {},
     "outputs": [],
     "prompt_number": 16
    },
    {
     "cell_type": "code",
     "collapsed": false,
     "input": [
      "# release_all = movies_with_budget['release date'].values\n",
      "# release_seq = sequels_df.release_date.values\n",
      "\n",
      "# weights_all = np.ones_like(np.arange(float(len(release_all))))/len(release_all)\n",
      "# h = plt.hist([release.year for release in release_all],alpha=0.3,color='b',weights=weights_all)\n",
      "\n",
      "# weights_seq = np.ones_like(np.arange(float(len(release_seq))))/len(release_seq)\n",
      "# plt.hist([release.year for release in release_seq],alpha=0.3,bins=h[1],color='r',weights=weights_seq)\n",
      "\n",
      "# plt.xlabel('Production Budget')\n",
      "# plt.legend(['All Movies','Sequel Movies'],loc='upper left')"
     ],
     "language": "python",
     "metadata": {},
     "outputs": [],
     "prompt_number": 17
    },
    {
     "cell_type": "code",
     "collapsed": false,
     "input": [
      "average_budget_all = sum(movies_with_budget.budget)/len(movies_with_budget)\n",
      "average_budget_sequels = sum(sequels_df.budget)/len(sequels_df)\n",
      "\n",
      "budget_all_std = np.std(movies_with_budget.budget)\n",
      "budget_sequels_std = np.std(sequels_df.budget)\n",
      "print budget_all_std\n",
      "print budget_sequels_std\n",
      "\n",
      "\n",
      "average_gross_all = sum(movies_with_gross.domestic_total_gross)/len(movies_with_budget)\n",
      "average_gross_sequels = sum(sequels_df.domestic_box)/len(sequels_df)\n",
      "gross_all_std = np.std(movies_with_gross.domestic_total_gross)\n",
      "gross_sequels_std = np.std(sequels_df.domestic_box)\n",
      "print gross_all_std\n",
      "print gross_sequels_std\n",
      "\n",
      "\n",
      "average_profit_all = average_gross_all - average_budget_all\n",
      "average_profit_sequels = average_gross_sequels - average_budget_sequels\n",
      "\n",
      "\n",
      "width = 0.5\n",
      "\n",
      "pos_all=range(3)\n",
      "pos_seq=range(3)\n",
      "for p in range(3):\n",
      "    pos_all[p] = p+p*0.1\n",
      "    pos_seq[p] = pos_all[p]+width\n",
      "\n",
      "ax = plt.axes()\n",
      "#ax.set_xlabel(\"Rating\")\n",
      "#ax.set_ylabel(\"Percentage of Movies Made\")\n",
      "ax.set_xticks(pos_seq)\n",
      "ax.set_xticklabels(['Budget','Domestic Gross','Profit'])\n",
      "\n",
      "plt.bar(pos_all,[average_budget_all,average_gross_all,average_profit_all], width=width, color='b',\n",
      "        alpha=0.5, yerr=[budget_all_std,gross_all_std,0])\n",
      "plt.bar(pos_seq,[average_budget_sequels,average_gross_sequels,average_profit_sequels], width=width, color='r',\n",
      "        alpha=0.5,yerr=[budget_sequels_std,gross_sequels_std,0])\n",
      "\n",
      "plt.legend(['All Movies','Sequel Movies'],loc='upper left')"
     ],
     "language": "python",
     "metadata": {},
     "outputs": [
      {
       "output_type": "stream",
       "stream": "stdout",
       "text": [
        "42927435.3703\n",
        "57152305.979\n",
        "41771291.7305\n",
        "102875865.88\n"
       ]
      },
      {
       "metadata": {},
       "output_type": "pyout",
       "prompt_number": 18,
       "text": [
        "<matplotlib.legend.Legend at 0x114068050>"
       ]
      },
      {
       "metadata": {},
       "output_type": "display_data",
       "png": "[encoded data removed]",
       "text": [
        "<matplotlib.figure.Figure at 0x1152d6050>"
       ]
      }
     ],
     "prompt_number": 18
    },
    {
     "cell_type": "code",
     "collapsed": false,
     "input": [
      "movies_df.groupby('genre').count()['actors']"
     ],
     "language": "python",
     "metadata": {},
     "outputs": [
      {
       "metadata": {},
       "output_type": "pyout",
       "prompt_number": 19,
       "text": [
        "genre\n",
        "Action                 264\n",
        "Action / Adventure      87\n",
        "Action / Crime          50\n",
        "Action Comedy          159\n",
        "Action Drama            65\n",
        "Action Fantasy          13\n",
        "Action Horror           39\n",
        "Action Thriller        103\n",
        "Adventure               65\n",
        "Adventure Comedy        20\n",
        "Animation              394\n",
        "Comedy                1302\n",
        "Comedy / Drama         400\n",
        "Comedy Thriller         51\n",
        "Concert                 52\n",
        "...\n",
        "Sci-Fi Comedy        46\n",
        "Sci-Fi Fantasy       16\n",
        "Sci-Fi Horror        68\n",
        "Sci-Fi Thriller      51\n",
        "Sports                1\n",
        "Sports Action        12\n",
        "Sports Comedy        72\n",
        "Sports Drama        126\n",
        "Thriller            417\n",
        "Unknown            2203\n",
        "War                  90\n",
        "War Drama            66\n",
        "War Romance           7\n",
        "Western             169\n",
        "Western Comedy       20\n",
        "Name: actors, Length: 66, dtype: int64"
       ]
      }
     ],
     "prompt_number": 19
    }
   ],
   "metadata": {}
  }
 ]
}