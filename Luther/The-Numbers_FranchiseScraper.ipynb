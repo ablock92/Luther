{
 "metadata": {
  "name": "",
  "signature": "sha256:ecaea40295a9c6937d9899877122d1c366a2d47f2598511af986a9827a89020a"
 },
 "nbformat": 3,
 "nbformat_minor": 0,
 "worksheets": [
  {
   "cells": [
    {
     "cell_type": "code",
     "collapsed": false,
     "input": [
      "import urllib2\n",
      "from bs4 import BeautifulSoup\n",
      "import sys\n",
      "import re\n",
      "import dateutil.parser\n",
      "sys.path.append(\"../movies/\")\n",
      "from collections import defaultdict\n",
      "from datetime import datetime\n",
      "import pprint\n",
      "import pickle"
     ],
     "language": "python",
     "metadata": {},
     "outputs": [],
     "prompt_number": 1
    },
    {
     "cell_type": "code",
     "collapsed": false,
     "input": [
      "def connect(url):\n",
      "    while True:\n",
      "        try:\n",
      "            page = urllib2.urlopen(url)\n",
      "            break\n",
      "        except:\n",
      "            print url\n",
      "        \n",
      "    soup = BeautifulSoup(page)\n",
      "    return soup\n",
      "\n",
      "def money_to_int(moneystring):\n",
      "    if moneystring == None:\n",
      "        return None\n",
      "    else:\n",
      "        return int(moneystring.replace('$','').replace(',',''))"
     ],
     "language": "python",
     "metadata": {},
     "outputs": [],
     "prompt_number": 2
    },
    {
     "cell_type": "code",
     "collapsed": false,
     "input": [
      "#GET ALL DESIRED INFORMATION FOR A MOVIE FROM IT'S THE-NUMBERS PAGE\n",
      "\n",
      "def analyze_movie_page(url):\n",
      "    soup = connect(url)\n",
      "    \n",
      "    info_dict={}\n",
      "    \n",
      "    video_sales = get_summary_info(soup, 'Total Domestic Video Sales')\n",
      "    info_dict['video_sales'] = money_to_int(video_sales)\n",
      "    \n",
      "    movie_rating = get_summary_info(soup, 'MPAA')\n",
      "    if movie_rating == None:\n",
      "        info_dict['rating'] = None\n",
      "    else:\n",
      "        info_dict['rating'] = movie_rating.split(' ')[0]\n",
      "    \n",
      "    keywords = get_summary_info(soup,'Keywords')\n",
      "    if keywords == None:\n",
      "        info_dict['keywords']=[]\n",
      "    else:\n",
      "        info_dict['keywords'] = keywords.split(', ')\n",
      "    \n",
      "    info_dict['source'] = get_summary_info(soup,'Source')\n",
      "    info_dict['genre'] = get_summary_info(soup,'Genre')\n",
      "    info_dict['production_method'] = get_summary_info(soup, 'Method')\n",
      "    info_dict['creative_type'] = get_summary_info(soup, 'Creative')\n",
      "    info_dict['critics_rating'], info_dict['audience_rating'] = get_ratings(soup)\n",
      "    info_dict['cast'], info_dict['director'] = get_cast_director(soup)\n",
      "\n",
      "    return info_dict\n",
      "\n",
      "    \n",
      "def get_cast_director(soup):\n",
      "    \n",
      "    cast_crew_table = soup.find_all('div',{'id':'cast'})\n",
      "    cast_table = cast_crew_table[0]\n",
      "    cast_a_tags = cast_table.find_all('a')\n",
      "    cast=[]\n",
      "    for c in cast_a_tags:\n",
      "        cast.append(c.text) \n",
      "\n",
      "    directors=[]\n",
      "    if len(cast_crew_table)>1:\n",
      "        crew_table = cast_crew_table[1]    \n",
      "        director_tags = crew_table.find_all('td',text='Director')\n",
      "        for director in director_tags:\n",
      "            directors.append( director.findNext('td').findNext('td').text ) \n",
      "            \n",
      "    return cast, directors\n",
      "    \n",
      "\n",
      "def get_summary_info(soup,info_desired):\n",
      "    placeholder = soup.find('td',text=re.compile(info_desired))\n",
      "    if placeholder==None:\n",
      "        return None\n",
      "    return placeholder.findNextSibling().text\n",
      "    \n",
      "\n",
      "def get_ratings(soup):\n",
      "    rotten_tomatoes_box = soup.find('td',text=re.compile(\"Rotten\"))\n",
      "    if rotten_tomatoes_box==None:\n",
      "        return None, None\n",
      "    \n",
      "    critics_td = rotten_tomatoes_box.findNext('td').findNext('td').findNext('td')\n",
      "    audience_td = critics_td.findNext('td')\n",
      "    if critics_td == None or audience_td == None:\n",
      "        return None,None\n",
      "    \n",
      "    critic_rating =  critics_td.text.split('\\n')[1].split(' ')[0]\n",
      "    audience_rating = audience_td.text.split('\\n')[2].split(' ')[0]\n",
      "    return int(critic_rating[:-1]), int(audience_rating[:-1])\n",
      "\n",
      "# analyze_movie_page(\"http://www.the-numbers.com/movie/Iron-Man#tab=summary\")"
     ],
     "language": "python",
     "metadata": {},
     "outputs": [],
     "prompt_number": 3
    },
    {
     "cell_type": "code",
     "collapsed": false,
     "input": [
      "#SCRAPE THE FRANCHISE TABLE FOR LINKS\n",
      "#GATHER INFORMATION FROM TABLES AT COLLECTED LINKS \n",
      "\n",
      "def get_all_franchise_links(url):\n",
      "    soup = connect(url)\n",
      "    all_links = get_all_links(soup)\n",
      "    return get_link_types_from_list(all_links,'/movies/franchise/')\n",
      "    \n",
      "def get_all_links(soup):\n",
      "    \"\"\"Gets all the links from soup\"\"\"\n",
      "    a_tags = soup.find_all('a')\n",
      "    all_links = []\n",
      "    for a in a_tags:\n",
      "        all_links.append( a['href'] )\n",
      "    return all_links\n",
      "\n",
      "def get_link_types_from_list(list_of_links,format_to_keep):\n",
      "    base_url = url = \"http://www.the-numbers.com\"\n",
      "    \n",
      "    franchise_links = []\n",
      "    reg_ex = re.compile(format_to_keep)\n",
      "    do_not_include = ['/movies/franchise/48-Hrs.','/movies/franchise/George-A.-Romeros-Dead-Series','/movies/franchise/Always-(Japan)']\n",
      "    for link in list_of_links:\n",
      "        if reg_ex.match(link) and (link not in do_not_include):\n",
      "            franchise_links.append(base_url + link)\n",
      "    return franchise_links\n",
      "\n",
      "\n",
      "def build_franchise_dict(url):\n",
      "    #{franchise_name:[{movie:,budget:,...},{movie:,budget:...},...]}\n",
      "    soup = connect(url)\n",
      "    franchise_name = get_franchise_name(soup)\n",
      "    \n",
      "    movies_list = []\n",
      "    td_tags = soup.find_all('td')\n",
      "\n",
      "    i=0\n",
      "    cells_per_row = 7\n",
      "    bottom_cells = cells_per_row*2 + 1\n",
      "    while i < len(td_tags)-bottom_cells:\n",
      "        movie_info = get_movie_info(td_tags,i/cells_per_row)\n",
      "        if movie_info!= None:\n",
      "            movies_list.append(movie_info)\n",
      "        i+=cells_per_row\n",
      "    \n",
      "    if len(movies_list)<=1:\n",
      "        return None, None\n",
      "    \n",
      "    return franchise_name, movies_list\n",
      "    \n",
      "def get_franchise_name(soup):\n",
      "    header_text =  soup.find_all('h1')[0].text\n",
      "    franchise_name = header_text[len(\"Box Office History for\"):len(header_text)-len(\" Movies\")]\n",
      "    return franchise_name\n",
      "    \n",
      "def get_movie_info(td_list, number_in_series):\n",
      "    \n",
      "    base_url = url = \"http://www.the-numbers.com\"\n",
      "    \n",
      "    headers = ['release_date','movie_title','budget','domestic_opening','domestic_box','worldwide_box']\n",
      "    movie_dict = {}\n",
      "    \n",
      "    cells_per_row=7\n",
      "    for x in range(cells_per_row-1): # I don't want the last column\n",
      "        \n",
      "        next_cell = td_list[number_in_series*cells_per_row + x].text\n",
      "        \n",
      "        if next_cell == u'\\xa0' or next_cell=='$0':\n",
      "            return \n",
      "        if x==0:\n",
      "            next_cell = next_cell.replace(u'\\xa0',' ')\n",
      "            next_cell = dateutil.parser.parse(next_cell)\n",
      "        elif x == 1:\n",
      "            \n",
      "            movie_url = base_url + td_list[number_in_series*7 + x].find('a')['href']\n",
      "        else:\n",
      "            next_cell = money_to_int(next_cell)\n",
      "        movie_dict[headers[x]] = next_cell\n",
      "    try:\n",
      "        movie_page_info = analyze_movie_page(movie_url)\n",
      "        movie_dict.update(movie_page_info)\n",
      "    except:\n",
      "        print movie_dict['movie_title']\n",
      "    return movie_dict\n",
      "\n",
      "        "
     ],
     "language": "python",
     "metadata": {},
     "outputs": [],
     "prompt_number": 4
    },
    {
     "cell_type": "code",
     "collapsed": true,
     "input": [
      "url = \"http://www.the-numbers.com/movies/franchises/\"\n",
      "links = get_all_franchise_links(url)\n",
      "\n",
      "all_franchise_dicts = {}\n",
      "\n",
      "i=0\n",
      "for link in links:\n",
      "    franchise, movie_info = build_franchise_dict(link)\n",
      "    if movie_info != None:\n",
      "        all_franchise_dicts[franchise]=movie_info\n",
      "    i+=1\n",
      "    if (i%50 == 0):\n",
      "        print \"YAY PICKLE\"\n",
      "        with open('movie_data.pkl','w') as picklefile:\n",
      "            pickle.dump(all_franchise_dicts,picklefile)\n",
      "            \n",
      "print 'done'\n",
      "\n",
      "# pp = pprint.PrettyPrinter()\n",
      "# pp.pprint(all_movies_dict)\n",
      "\n"
     ],
     "language": "python",
     "metadata": {},
     "outputs": [
      {
       "output_type": "stream",
       "stream": "stdout",
       "text": [
        "YAY PICKLE\n",
        "Paranormal Activity"
       ]
      },
      {
       "output_type": "stream",
       "stream": "stdout",
       "text": [
        "\n",
        "Godzilla"
       ]
      },
      {
       "output_type": "stream",
       "stream": "stdout",
       "text": [
        "\n",
        "YAY PICKLE"
       ]
      },
      {
       "output_type": "stream",
       "stream": "stdout",
       "text": [
        "\n",
        "YAY PICKLE"
       ]
      },
      {
       "output_type": "stream",
       "stream": "stdout",
       "text": [
        "\n",
        "Pokemon 2000"
       ]
      },
      {
       "output_type": "stream",
       "stream": "stdout",
       "text": [
        "\n",
        "Pokemon 3: The Movie"
       ]
      },
      {
       "output_type": "stream",
       "stream": "stdout",
       "text": [
        "\n",
        "YAY PICKLE"
       ]
      },
      {
       "output_type": "stream",
       "stream": "stdout",
       "text": [
        "\n",
        "YAY PICKLE"
       ]
      },
      {
       "output_type": "stream",
       "stream": "stdout",
       "text": [
        "\n",
        "YAY PICKLE"
       ]
      },
      {
       "output_type": "stream",
       "stream": "stdout",
       "text": [
        "\n",
        "YAY PICKLE"
       ]
      },
      {
       "output_type": "stream",
       "stream": "stdout",
       "text": [
        "\n",
        "Teen Wolf Too"
       ]
      },
      {
       "output_type": "stream",
       "stream": "stdout",
       "text": [
        "\n",
        "The Pirates Who Don't Do Anything: A VeggieTales Movie"
       ]
      },
      {
       "output_type": "stream",
       "stream": "stdout",
       "text": [
        "\n",
        "YAY PICKLE"
       ]
      },
      {
       "output_type": "stream",
       "stream": "stdout",
       "text": [
        "\n",
        "Kickboxer"
       ]
      },
      {
       "output_type": "stream",
       "stream": "stdout",
       "text": [
        "\n",
        "Warlock: The Armageddon"
       ]
      },
      {
       "output_type": "stream",
       "stream": "stdout",
       "text": [
        "\n",
        "YAY PICKLE"
       ]
      },
      {
       "output_type": "stream",
       "stream": "stdout",
       "text": [
        "\n",
        "The Work and the Glory: American Zion"
       ]
      },
      {
       "output_type": "stream",
       "stream": "stdout",
       "text": [
        "\n",
        "Krrish"
       ]
      },
      {
       "output_type": "stream",
       "stream": "stdout",
       "text": [
        "\n",
        "Trois"
       ]
      },
      {
       "output_type": "stream",
       "stream": "stdout",
       "text": [
        "\n",
        "Pandora's Box"
       ]
      },
      {
       "output_type": "stream",
       "stream": "stdout",
       "text": [
        "\n",
        "YAY PICKLE"
       ]
      },
      {
       "output_type": "stream",
       "stream": "stdout",
       "text": [
        "\n",
        "The Red Riding Trilogy: 1974"
       ]
      },
      {
       "output_type": "stream",
       "stream": "stdout",
       "text": [
        "\n",
        "YAY PICKLE"
       ]
      },
      {
       "output_type": "stream",
       "stream": "stdout",
       "text": [
        "\n",
        "done"
       ]
      },
      {
       "output_type": "stream",
       "stream": "stdout",
       "text": [
        "\n"
       ]
      }
     ],
     "prompt_number": 5
    },
    {
     "cell_type": "code",
     "collapsed": false,
     "input": [
      "with open('movie_data.pkl','w') as picklefile:\n",
      "    pickle.dump(all_franchise_dicts,picklefile)"
     ],
     "language": "python",
     "metadata": {},
     "outputs": [],
     "prompt_number": 6
    },
    {
     "cell_type": "code",
     "collapsed": false,
     "input": [
      "total_movies = 0\n",
      "for f in all_franchise_dicts.keys():\n",
      "    total_movies += len(all_franchise_dicts[f])\n",
      "\n",
      "print total_movies - len(all_franchise_dicts)"
     ],
     "language": "python",
     "metadata": {},
     "outputs": [
      {
       "output_type": "stream",
       "stream": "stdout",
       "text": [
        "400\n"
       ]
      }
     ],
     "prompt_number": 14
    },
    {
     "cell_type": "code",
     "collapsed": false,
     "input": [
      "d = {1:2,3:4,5:6}\n",
      "d.pop(1)\n",
      "\n",
      "d"
     ],
     "language": "python",
     "metadata": {},
     "outputs": [
      {
       "metadata": {},
       "output_type": "pyout",
       "prompt_number": 17,
       "text": [
        "{3: 4, 5: 6}"
       ]
      }
     ],
     "prompt_number": 17
    }
   ],
   "metadata": {}
  }
 ]
}